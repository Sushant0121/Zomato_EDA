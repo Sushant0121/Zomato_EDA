{
 "cells": [
  {
   "cell_type": "code",
   "execution_count": 1,
   "id": "36eef8dc",
   "metadata": {
    "execution": {
     "iopub.execute_input": "2025-09-05T07:56:17.966427Z",
     "iopub.status.busy": "2025-09-05T07:56:17.965869Z",
     "iopub.status.idle": "2025-09-05T07:56:20.117944Z",
     "shell.execute_reply": "2025-09-05T07:56:20.117103Z"
    },
    "papermill": {
     "duration": 2.166923,
     "end_time": "2025-09-05T07:56:20.119782",
     "exception": false,
     "start_time": "2025-09-05T07:56:17.952859",
     "status": "completed"
    },
    "tags": []
   },
   "outputs": [],
   "source": [
    "import pandas as pd"
   ]
  },
  {
   "cell_type": "markdown",
   "id": "5b2f8dda",
   "metadata": {
    "papermill": {
     "duration": 0.008599,
     "end_time": "2025-09-05T07:56:20.137932",
     "exception": false,
     "start_time": "2025-09-05T07:56:20.129333",
     "status": "completed"
    },
    "tags": []
   },
   "source": [
    "**Import dataset**"
   ]
  },
  {
   "cell_type": "code",
   "execution_count": 2,
   "id": "742d72cd",
   "metadata": {
    "execution": {
     "iopub.execute_input": "2025-09-05T07:56:20.157898Z",
     "iopub.status.busy": "2025-09-05T07:56:20.157463Z",
     "iopub.status.idle": "2025-09-05T07:56:37.964159Z",
     "shell.execute_reply": "2025-09-05T07:56:37.962957Z"
    },
    "papermill": {
     "duration": 17.818339,
     "end_time": "2025-09-05T07:56:37.966008",
     "exception": false,
     "start_time": "2025-09-05T07:56:20.147669",
     "status": "completed"
    },
    "tags": []
   },
   "outputs": [
    {
     "data": {
      "text/html": [
       "<div>\n",
       "<style scoped>\n",
       "    .dataframe tbody tr th:only-of-type {\n",
       "        vertical-align: middle;\n",
       "    }\n",
       "\n",
       "    .dataframe tbody tr th {\n",
       "        vertical-align: top;\n",
       "    }\n",
       "\n",
       "    .dataframe thead th {\n",
       "        text-align: right;\n",
       "    }\n",
       "</style>\n",
       "<table border=\"1\" class=\"dataframe\">\n",
       "  <thead>\n",
       "    <tr style=\"text-align: right;\">\n",
       "      <th></th>\n",
       "      <th>url</th>\n",
       "      <th>address</th>\n",
       "      <th>name</th>\n",
       "      <th>online_order</th>\n",
       "      <th>book_table</th>\n",
       "      <th>rate</th>\n",
       "      <th>votes</th>\n",
       "      <th>phone</th>\n",
       "      <th>location</th>\n",
       "      <th>rest_type</th>\n",
       "      <th>dish_liked</th>\n",
       "      <th>cuisines</th>\n",
       "      <th>approx_cost(for two people)</th>\n",
       "      <th>reviews_list</th>\n",
       "      <th>menu_item</th>\n",
       "      <th>listed_in(type)</th>\n",
       "      <th>listed_in(city)</th>\n",
       "    </tr>\n",
       "  </thead>\n",
       "  <tbody>\n",
       "    <tr>\n",
       "      <th>0</th>\n",
       "      <td>https://www.zomato.com/bangalore/jalsa-banasha...</td>\n",
       "      <td>942, 21st Main Road, 2nd Stage, Banashankari, ...</td>\n",
       "      <td>Jalsa</td>\n",
       "      <td>Yes</td>\n",
       "      <td>Yes</td>\n",
       "      <td>4.1/5</td>\n",
       "      <td>775</td>\n",
       "      <td>080 42297555\\r\\n+91 9743772233</td>\n",
       "      <td>Banashankari</td>\n",
       "      <td>Casual Dining</td>\n",
       "      <td>Pasta, Lunch Buffet, Masala Papad, Paneer Laja...</td>\n",
       "      <td>North Indian, Mughlai, Chinese</td>\n",
       "      <td>800</td>\n",
       "      <td>[('Rated 4.0', 'RATED\\n  A beautiful place to ...</td>\n",
       "      <td>[]</td>\n",
       "      <td>Buffet</td>\n",
       "      <td>Banashankari</td>\n",
       "    </tr>\n",
       "    <tr>\n",
       "      <th>1</th>\n",
       "      <td>https://www.zomato.com/bangalore/spice-elephan...</td>\n",
       "      <td>2nd Floor, 80 Feet Road, Near Big Bazaar, 6th ...</td>\n",
       "      <td>Spice Elephant</td>\n",
       "      <td>Yes</td>\n",
       "      <td>No</td>\n",
       "      <td>4.1/5</td>\n",
       "      <td>787</td>\n",
       "      <td>080 41714161</td>\n",
       "      <td>Banashankari</td>\n",
       "      <td>Casual Dining</td>\n",
       "      <td>Momos, Lunch Buffet, Chocolate Nirvana, Thai G...</td>\n",
       "      <td>Chinese, North Indian, Thai</td>\n",
       "      <td>800</td>\n",
       "      <td>[('Rated 4.0', 'RATED\\n  Had been here for din...</td>\n",
       "      <td>[]</td>\n",
       "      <td>Buffet</td>\n",
       "      <td>Banashankari</td>\n",
       "    </tr>\n",
       "    <tr>\n",
       "      <th>2</th>\n",
       "      <td>https://www.zomato.com/SanchurroBangalore?cont...</td>\n",
       "      <td>1112, Next to KIMS Medical College, 17th Cross...</td>\n",
       "      <td>San Churro Cafe</td>\n",
       "      <td>Yes</td>\n",
       "      <td>No</td>\n",
       "      <td>3.8/5</td>\n",
       "      <td>918</td>\n",
       "      <td>+91 9663487993</td>\n",
       "      <td>Banashankari</td>\n",
       "      <td>Cafe, Casual Dining</td>\n",
       "      <td>Churros, Cannelloni, Minestrone Soup, Hot Choc...</td>\n",
       "      <td>Cafe, Mexican, Italian</td>\n",
       "      <td>800</td>\n",
       "      <td>[('Rated 3.0', \"RATED\\n  Ambience is not that ...</td>\n",
       "      <td>[]</td>\n",
       "      <td>Buffet</td>\n",
       "      <td>Banashankari</td>\n",
       "    </tr>\n",
       "    <tr>\n",
       "      <th>3</th>\n",
       "      <td>https://www.zomato.com/bangalore/addhuri-udupi...</td>\n",
       "      <td>1st Floor, Annakuteera, 3rd Stage, Banashankar...</td>\n",
       "      <td>Addhuri Udupi Bhojana</td>\n",
       "      <td>No</td>\n",
       "      <td>No</td>\n",
       "      <td>3.7/5</td>\n",
       "      <td>88</td>\n",
       "      <td>+91 9620009302</td>\n",
       "      <td>Banashankari</td>\n",
       "      <td>Quick Bites</td>\n",
       "      <td>Masala Dosa</td>\n",
       "      <td>South Indian, North Indian</td>\n",
       "      <td>300</td>\n",
       "      <td>[('Rated 4.0', \"RATED\\n  Great food and proper...</td>\n",
       "      <td>[]</td>\n",
       "      <td>Buffet</td>\n",
       "      <td>Banashankari</td>\n",
       "    </tr>\n",
       "    <tr>\n",
       "      <th>4</th>\n",
       "      <td>https://www.zomato.com/bangalore/grand-village...</td>\n",
       "      <td>10, 3rd Floor, Lakshmi Associates, Gandhi Baza...</td>\n",
       "      <td>Grand Village</td>\n",
       "      <td>No</td>\n",
       "      <td>No</td>\n",
       "      <td>3.8/5</td>\n",
       "      <td>166</td>\n",
       "      <td>+91 8026612447\\r\\n+91 9901210005</td>\n",
       "      <td>Basavanagudi</td>\n",
       "      <td>Casual Dining</td>\n",
       "      <td>Panipuri, Gol Gappe</td>\n",
       "      <td>North Indian, Rajasthani</td>\n",
       "      <td>600</td>\n",
       "      <td>[('Rated 4.0', 'RATED\\n  Very good restaurant ...</td>\n",
       "      <td>[]</td>\n",
       "      <td>Buffet</td>\n",
       "      <td>Banashankari</td>\n",
       "    </tr>\n",
       "  </tbody>\n",
       "</table>\n",
       "</div>"
      ],
      "text/plain": [
       "                                                 url  \\\n",
       "0  https://www.zomato.com/bangalore/jalsa-banasha...   \n",
       "1  https://www.zomato.com/bangalore/spice-elephan...   \n",
       "2  https://www.zomato.com/SanchurroBangalore?cont...   \n",
       "3  https://www.zomato.com/bangalore/addhuri-udupi...   \n",
       "4  https://www.zomato.com/bangalore/grand-village...   \n",
       "\n",
       "                                             address                   name  \\\n",
       "0  942, 21st Main Road, 2nd Stage, Banashankari, ...                  Jalsa   \n",
       "1  2nd Floor, 80 Feet Road, Near Big Bazaar, 6th ...         Spice Elephant   \n",
       "2  1112, Next to KIMS Medical College, 17th Cross...        San Churro Cafe   \n",
       "3  1st Floor, Annakuteera, 3rd Stage, Banashankar...  Addhuri Udupi Bhojana   \n",
       "4  10, 3rd Floor, Lakshmi Associates, Gandhi Baza...          Grand Village   \n",
       "\n",
       "  online_order book_table   rate  votes                             phone  \\\n",
       "0          Yes        Yes  4.1/5    775    080 42297555\\r\\n+91 9743772233   \n",
       "1          Yes         No  4.1/5    787                      080 41714161   \n",
       "2          Yes         No  3.8/5    918                    +91 9663487993   \n",
       "3           No         No  3.7/5     88                    +91 9620009302   \n",
       "4           No         No  3.8/5    166  +91 8026612447\\r\\n+91 9901210005   \n",
       "\n",
       "       location            rest_type  \\\n",
       "0  Banashankari        Casual Dining   \n",
       "1  Banashankari        Casual Dining   \n",
       "2  Banashankari  Cafe, Casual Dining   \n",
       "3  Banashankari          Quick Bites   \n",
       "4  Basavanagudi        Casual Dining   \n",
       "\n",
       "                                          dish_liked  \\\n",
       "0  Pasta, Lunch Buffet, Masala Papad, Paneer Laja...   \n",
       "1  Momos, Lunch Buffet, Chocolate Nirvana, Thai G...   \n",
       "2  Churros, Cannelloni, Minestrone Soup, Hot Choc...   \n",
       "3                                        Masala Dosa   \n",
       "4                                Panipuri, Gol Gappe   \n",
       "\n",
       "                         cuisines approx_cost(for two people)  \\\n",
       "0  North Indian, Mughlai, Chinese                         800   \n",
       "1     Chinese, North Indian, Thai                         800   \n",
       "2          Cafe, Mexican, Italian                         800   \n",
       "3      South Indian, North Indian                         300   \n",
       "4        North Indian, Rajasthani                         600   \n",
       "\n",
       "                                        reviews_list menu_item  \\\n",
       "0  [('Rated 4.0', 'RATED\\n  A beautiful place to ...        []   \n",
       "1  [('Rated 4.0', 'RATED\\n  Had been here for din...        []   \n",
       "2  [('Rated 3.0', \"RATED\\n  Ambience is not that ...        []   \n",
       "3  [('Rated 4.0', \"RATED\\n  Great food and proper...        []   \n",
       "4  [('Rated 4.0', 'RATED\\n  Very good restaurant ...        []   \n",
       "\n",
       "  listed_in(type) listed_in(city)  \n",
       "0          Buffet    Banashankari  \n",
       "1          Buffet    Banashankari  \n",
       "2          Buffet    Banashankari  \n",
       "3          Buffet    Banashankari  \n",
       "4          Buffet    Banashankari  "
      ]
     },
     "execution_count": 2,
     "metadata": {},
     "output_type": "execute_result"
    }
   ],
   "source": [
    "df = pd.read_csv('/kaggle/input/zomato-dataset/zomato.csv')\n",
    "df.head()"
   ]
  },
  {
   "cell_type": "code",
   "execution_count": 3,
   "id": "160279de",
   "metadata": {
    "execution": {
     "iopub.execute_input": "2025-09-05T07:56:37.986638Z",
     "iopub.status.busy": "2025-09-05T07:56:37.986276Z",
     "iopub.status.idle": "2025-09-05T07:56:38.006090Z",
     "shell.execute_reply": "2025-09-05T07:56:38.004942Z"
    },
    "papermill": {
     "duration": 0.032242,
     "end_time": "2025-09-05T07:56:38.008033",
     "exception": false,
     "start_time": "2025-09-05T07:56:37.975791",
     "status": "completed"
    },
    "tags": []
   },
   "outputs": [],
   "source": [
    "df.drop(['url', 'address', 'phone', 'menu_item', 'dish_liked', 'reviews_list', 'listed_in(city)'], axis = 1, inplace = True)"
   ]
  },
  {
   "cell_type": "markdown",
   "id": "a8aa370d",
   "metadata": {
    "papermill": {
     "duration": 0.009407,
     "end_time": "2025-09-05T07:56:38.027079",
     "exception": false,
     "start_time": "2025-09-05T07:56:38.017672",
     "status": "completed"
    },
    "tags": []
   },
   "source": [
    " **Renaming the columns**"
   ]
  },
  {
   "cell_type": "code",
   "execution_count": 4,
   "id": "5e4837e3",
   "metadata": {
    "execution": {
     "iopub.execute_input": "2025-09-05T07:56:38.047589Z",
     "iopub.status.busy": "2025-09-05T07:56:38.047245Z",
     "iopub.status.idle": "2025-09-05T07:56:38.061873Z",
     "shell.execute_reply": "2025-09-05T07:56:38.060865Z"
    },
    "papermill": {
     "duration": 0.026576,
     "end_time": "2025-09-05T07:56:38.063597",
     "exception": false,
     "start_time": "2025-09-05T07:56:38.037021",
     "status": "completed"
    },
    "tags": []
   },
   "outputs": [
    {
     "data": {
      "text/html": [
       "<div>\n",
       "<style scoped>\n",
       "    .dataframe tbody tr th:only-of-type {\n",
       "        vertical-align: middle;\n",
       "    }\n",
       "\n",
       "    .dataframe tbody tr th {\n",
       "        vertical-align: top;\n",
       "    }\n",
       "\n",
       "    .dataframe thead th {\n",
       "        text-align: right;\n",
       "    }\n",
       "</style>\n",
       "<table border=\"1\" class=\"dataframe\">\n",
       "  <thead>\n",
       "    <tr style=\"text-align: right;\">\n",
       "      <th></th>\n",
       "      <th>restaurants</th>\n",
       "      <th>online_order</th>\n",
       "      <th>booking</th>\n",
       "      <th>rating</th>\n",
       "      <th>votes</th>\n",
       "      <th>location</th>\n",
       "      <th>rest_type</th>\n",
       "      <th>cuisines</th>\n",
       "      <th>cost</th>\n",
       "      <th>types</th>\n",
       "    </tr>\n",
       "  </thead>\n",
       "  <tbody>\n",
       "    <tr>\n",
       "      <th>0</th>\n",
       "      <td>Jalsa</td>\n",
       "      <td>Yes</td>\n",
       "      <td>Yes</td>\n",
       "      <td>4.1/5</td>\n",
       "      <td>775</td>\n",
       "      <td>Banashankari</td>\n",
       "      <td>Casual Dining</td>\n",
       "      <td>North Indian, Mughlai, Chinese</td>\n",
       "      <td>800</td>\n",
       "      <td>Buffet</td>\n",
       "    </tr>\n",
       "    <tr>\n",
       "      <th>1</th>\n",
       "      <td>Spice Elephant</td>\n",
       "      <td>Yes</td>\n",
       "      <td>No</td>\n",
       "      <td>4.1/5</td>\n",
       "      <td>787</td>\n",
       "      <td>Banashankari</td>\n",
       "      <td>Casual Dining</td>\n",
       "      <td>Chinese, North Indian, Thai</td>\n",
       "      <td>800</td>\n",
       "      <td>Buffet</td>\n",
       "    </tr>\n",
       "    <tr>\n",
       "      <th>2</th>\n",
       "      <td>San Churro Cafe</td>\n",
       "      <td>Yes</td>\n",
       "      <td>No</td>\n",
       "      <td>3.8/5</td>\n",
       "      <td>918</td>\n",
       "      <td>Banashankari</td>\n",
       "      <td>Cafe, Casual Dining</td>\n",
       "      <td>Cafe, Mexican, Italian</td>\n",
       "      <td>800</td>\n",
       "      <td>Buffet</td>\n",
       "    </tr>\n",
       "    <tr>\n",
       "      <th>3</th>\n",
       "      <td>Addhuri Udupi Bhojana</td>\n",
       "      <td>No</td>\n",
       "      <td>No</td>\n",
       "      <td>3.7/5</td>\n",
       "      <td>88</td>\n",
       "      <td>Banashankari</td>\n",
       "      <td>Quick Bites</td>\n",
       "      <td>South Indian, North Indian</td>\n",
       "      <td>300</td>\n",
       "      <td>Buffet</td>\n",
       "    </tr>\n",
       "    <tr>\n",
       "      <th>4</th>\n",
       "      <td>Grand Village</td>\n",
       "      <td>No</td>\n",
       "      <td>No</td>\n",
       "      <td>3.8/5</td>\n",
       "      <td>166</td>\n",
       "      <td>Basavanagudi</td>\n",
       "      <td>Casual Dining</td>\n",
       "      <td>North Indian, Rajasthani</td>\n",
       "      <td>600</td>\n",
       "      <td>Buffet</td>\n",
       "    </tr>\n",
       "  </tbody>\n",
       "</table>\n",
       "</div>"
      ],
      "text/plain": [
       "             restaurants online_order booking rating  votes      location  \\\n",
       "0                  Jalsa          Yes     Yes  4.1/5    775  Banashankari   \n",
       "1         Spice Elephant          Yes      No  4.1/5    787  Banashankari   \n",
       "2        San Churro Cafe          Yes      No  3.8/5    918  Banashankari   \n",
       "3  Addhuri Udupi Bhojana           No      No  3.7/5     88  Banashankari   \n",
       "4          Grand Village           No      No  3.8/5    166  Basavanagudi   \n",
       "\n",
       "             rest_type                        cuisines cost   types  \n",
       "0        Casual Dining  North Indian, Mughlai, Chinese  800  Buffet  \n",
       "1        Casual Dining     Chinese, North Indian, Thai  800  Buffet  \n",
       "2  Cafe, Casual Dining          Cafe, Mexican, Italian  800  Buffet  \n",
       "3          Quick Bites      South Indian, North Indian  300  Buffet  \n",
       "4        Casual Dining        North Indian, Rajasthani  600  Buffet  "
      ]
     },
     "execution_count": 4,
     "metadata": {},
     "output_type": "execute_result"
    }
   ],
   "source": [
    "df.rename(columns = {'name':'restaurants', 'book_table':'booking', 'rate':'rating', 'listed_in(city)':'city', 'approx_cost(for two people)':'cost', 'listed_in(type)':'types'}, inplace = True)\n",
    "df.head(5)"
   ]
  },
  {
   "cell_type": "markdown",
   "id": "c5cedd3e",
   "metadata": {
    "papermill": {
     "duration": 0.010062,
     "end_time": "2025-09-05T07:56:38.084407",
     "exception": false,
     "start_time": "2025-09-05T07:56:38.074345",
     "status": "completed"
    },
    "tags": []
   },
   "source": [
    "I renamed the columns to shorter and more meaningful names like restaurants, booking, rating, city, cost, and types. This makes the dataset easier to work with. After that, I displayed the first 5 rows to confirm the changes."
   ]
  },
  {
   "cell_type": "markdown",
   "id": "c9782aa1",
   "metadata": {
    "papermill": {
     "duration": 0.00916,
     "end_time": "2025-09-05T07:56:38.103223",
     "exception": false,
     "start_time": "2025-09-05T07:56:38.094063",
     "status": "completed"
    },
    "tags": []
   },
   "source": [
    "**Dropping duplicates**"
   ]
  },
  {
   "cell_type": "code",
   "execution_count": 5,
   "id": "923c1bfb",
   "metadata": {
    "execution": {
     "iopub.execute_input": "2025-09-05T07:56:38.123446Z",
     "iopub.status.busy": "2025-09-05T07:56:38.123131Z",
     "iopub.status.idle": "2025-09-05T07:56:38.129125Z",
     "shell.execute_reply": "2025-09-05T07:56:38.128222Z"
    },
    "papermill": {
     "duration": 0.018031,
     "end_time": "2025-09-05T07:56:38.130720",
     "exception": false,
     "start_time": "2025-09-05T07:56:38.112689",
     "status": "completed"
    },
    "tags": []
   },
   "outputs": [
    {
     "data": {
      "text/plain": [
       "51717"
      ]
     },
     "execution_count": 5,
     "metadata": {},
     "output_type": "execute_result"
    }
   ],
   "source": [
    "len(df)"
   ]
  },
  {
   "cell_type": "code",
   "execution_count": 6,
   "id": "6908c6fa",
   "metadata": {
    "execution": {
     "iopub.execute_input": "2025-09-05T07:56:38.151333Z",
     "iopub.status.busy": "2025-09-05T07:56:38.151020Z",
     "iopub.status.idle": "2025-09-05T07:56:38.203417Z",
     "shell.execute_reply": "2025-09-05T07:56:38.202334Z"
    },
    "papermill": {
     "duration": 0.064523,
     "end_time": "2025-09-05T07:56:38.205000",
     "exception": false,
     "start_time": "2025-09-05T07:56:38.140477",
     "status": "completed"
    },
    "tags": []
   },
   "outputs": [
    {
     "data": {
      "text/html": [
       "<div>\n",
       "<style scoped>\n",
       "    .dataframe tbody tr th:only-of-type {\n",
       "        vertical-align: middle;\n",
       "    }\n",
       "\n",
       "    .dataframe tbody tr th {\n",
       "        vertical-align: top;\n",
       "    }\n",
       "\n",
       "    .dataframe thead th {\n",
       "        text-align: right;\n",
       "    }\n",
       "</style>\n",
       "<table border=\"1\" class=\"dataframe\">\n",
       "  <thead>\n",
       "    <tr style=\"text-align: right;\">\n",
       "      <th></th>\n",
       "      <th>restaurants</th>\n",
       "      <th>online_order</th>\n",
       "      <th>booking</th>\n",
       "      <th>rating</th>\n",
       "      <th>votes</th>\n",
       "      <th>location</th>\n",
       "      <th>rest_type</th>\n",
       "      <th>cuisines</th>\n",
       "      <th>cost</th>\n",
       "      <th>types</th>\n",
       "    </tr>\n",
       "  </thead>\n",
       "  <tbody>\n",
       "    <tr>\n",
       "      <th>0</th>\n",
       "      <td>Jalsa</td>\n",
       "      <td>Yes</td>\n",
       "      <td>Yes</td>\n",
       "      <td>4.1/5</td>\n",
       "      <td>775</td>\n",
       "      <td>Banashankari</td>\n",
       "      <td>Casual Dining</td>\n",
       "      <td>North Indian, Mughlai, Chinese</td>\n",
       "      <td>800</td>\n",
       "      <td>Buffet</td>\n",
       "    </tr>\n",
       "    <tr>\n",
       "      <th>1</th>\n",
       "      <td>Spice Elephant</td>\n",
       "      <td>Yes</td>\n",
       "      <td>No</td>\n",
       "      <td>4.1/5</td>\n",
       "      <td>787</td>\n",
       "      <td>Banashankari</td>\n",
       "      <td>Casual Dining</td>\n",
       "      <td>Chinese, North Indian, Thai</td>\n",
       "      <td>800</td>\n",
       "      <td>Buffet</td>\n",
       "    </tr>\n",
       "    <tr>\n",
       "      <th>2</th>\n",
       "      <td>San Churro Cafe</td>\n",
       "      <td>Yes</td>\n",
       "      <td>No</td>\n",
       "      <td>3.8/5</td>\n",
       "      <td>918</td>\n",
       "      <td>Banashankari</td>\n",
       "      <td>Cafe, Casual Dining</td>\n",
       "      <td>Cafe, Mexican, Italian</td>\n",
       "      <td>800</td>\n",
       "      <td>Buffet</td>\n",
       "    </tr>\n",
       "    <tr>\n",
       "      <th>3</th>\n",
       "      <td>Addhuri Udupi Bhojana</td>\n",
       "      <td>No</td>\n",
       "      <td>No</td>\n",
       "      <td>3.7/5</td>\n",
       "      <td>88</td>\n",
       "      <td>Banashankari</td>\n",
       "      <td>Quick Bites</td>\n",
       "      <td>South Indian, North Indian</td>\n",
       "      <td>300</td>\n",
       "      <td>Buffet</td>\n",
       "    </tr>\n",
       "    <tr>\n",
       "      <th>4</th>\n",
       "      <td>Grand Village</td>\n",
       "      <td>No</td>\n",
       "      <td>No</td>\n",
       "      <td>3.8/5</td>\n",
       "      <td>166</td>\n",
       "      <td>Basavanagudi</td>\n",
       "      <td>Casual Dining</td>\n",
       "      <td>North Indian, Rajasthani</td>\n",
       "      <td>600</td>\n",
       "      <td>Buffet</td>\n",
       "    </tr>\n",
       "    <tr>\n",
       "      <th>...</th>\n",
       "      <td>...</td>\n",
       "      <td>...</td>\n",
       "      <td>...</td>\n",
       "      <td>...</td>\n",
       "      <td>...</td>\n",
       "      <td>...</td>\n",
       "      <td>...</td>\n",
       "      <td>...</td>\n",
       "      <td>...</td>\n",
       "      <td>...</td>\n",
       "    </tr>\n",
       "    <tr>\n",
       "      <th>51709</th>\n",
       "      <td>The Farm House Bar n Grill</td>\n",
       "      <td>No</td>\n",
       "      <td>No</td>\n",
       "      <td>3.7 /5</td>\n",
       "      <td>34</td>\n",
       "      <td>Whitefield</td>\n",
       "      <td>Casual Dining, Bar</td>\n",
       "      <td>North Indian, Continental</td>\n",
       "      <td>800</td>\n",
       "      <td>Pubs and bars</td>\n",
       "    </tr>\n",
       "    <tr>\n",
       "      <th>51711</th>\n",
       "      <td>Bhagini</td>\n",
       "      <td>No</td>\n",
       "      <td>No</td>\n",
       "      <td>2.5 /5</td>\n",
       "      <td>81</td>\n",
       "      <td>Whitefield</td>\n",
       "      <td>Casual Dining, Bar</td>\n",
       "      <td>Andhra, South Indian, Chinese, North Indian</td>\n",
       "      <td>800</td>\n",
       "      <td>Pubs and bars</td>\n",
       "    </tr>\n",
       "    <tr>\n",
       "      <th>51712</th>\n",
       "      <td>Best Brews - Four Points by Sheraton Bengaluru...</td>\n",
       "      <td>No</td>\n",
       "      <td>No</td>\n",
       "      <td>3.6 /5</td>\n",
       "      <td>27</td>\n",
       "      <td>Whitefield</td>\n",
       "      <td>Bar</td>\n",
       "      <td>Continental</td>\n",
       "      <td>1,500</td>\n",
       "      <td>Pubs and bars</td>\n",
       "    </tr>\n",
       "    <tr>\n",
       "      <th>51715</th>\n",
       "      <td>Chime - Sheraton Grand Bengaluru Whitefield Ho...</td>\n",
       "      <td>No</td>\n",
       "      <td>Yes</td>\n",
       "      <td>4.3 /5</td>\n",
       "      <td>236</td>\n",
       "      <td>ITPL Main Road, Whitefield</td>\n",
       "      <td>Bar</td>\n",
       "      <td>Finger Food</td>\n",
       "      <td>2,500</td>\n",
       "      <td>Pubs and bars</td>\n",
       "    </tr>\n",
       "    <tr>\n",
       "      <th>51716</th>\n",
       "      <td>The Nest - The Den Bengaluru</td>\n",
       "      <td>No</td>\n",
       "      <td>No</td>\n",
       "      <td>3.4 /5</td>\n",
       "      <td>13</td>\n",
       "      <td>ITPL Main Road, Whitefield</td>\n",
       "      <td>Bar, Casual Dining</td>\n",
       "      <td>Finger Food, North Indian, Continental</td>\n",
       "      <td>1,500</td>\n",
       "      <td>Pubs and bars</td>\n",
       "    </tr>\n",
       "  </tbody>\n",
       "</table>\n",
       "<p>43533 rows × 10 columns</p>\n",
       "</div>"
      ],
      "text/plain": [
       "                                             restaurants online_order booking  \\\n",
       "0                                                  Jalsa          Yes     Yes   \n",
       "1                                         Spice Elephant          Yes      No   \n",
       "2                                        San Churro Cafe          Yes      No   \n",
       "3                                  Addhuri Udupi Bhojana           No      No   \n",
       "4                                          Grand Village           No      No   \n",
       "...                                                  ...          ...     ...   \n",
       "51709                         The Farm House Bar n Grill           No      No   \n",
       "51711                                            Bhagini           No      No   \n",
       "51712  Best Brews - Four Points by Sheraton Bengaluru...           No      No   \n",
       "51715  Chime - Sheraton Grand Bengaluru Whitefield Ho...           No     Yes   \n",
       "51716                       The Nest - The Den Bengaluru           No      No   \n",
       "\n",
       "       rating  votes                    location            rest_type  \\\n",
       "0       4.1/5    775                Banashankari        Casual Dining   \n",
       "1       4.1/5    787                Banashankari        Casual Dining   \n",
       "2       3.8/5    918                Banashankari  Cafe, Casual Dining   \n",
       "3       3.7/5     88                Banashankari          Quick Bites   \n",
       "4       3.8/5    166                Basavanagudi        Casual Dining   \n",
       "...       ...    ...                         ...                  ...   \n",
       "51709  3.7 /5     34                  Whitefield   Casual Dining, Bar   \n",
       "51711  2.5 /5     81                  Whitefield   Casual Dining, Bar   \n",
       "51712  3.6 /5     27                  Whitefield                  Bar   \n",
       "51715  4.3 /5    236  ITPL Main Road, Whitefield                  Bar   \n",
       "51716  3.4 /5     13  ITPL Main Road, Whitefield   Bar, Casual Dining   \n",
       "\n",
       "                                          cuisines   cost          types  \n",
       "0                   North Indian, Mughlai, Chinese    800         Buffet  \n",
       "1                      Chinese, North Indian, Thai    800         Buffet  \n",
       "2                           Cafe, Mexican, Italian    800         Buffet  \n",
       "3                       South Indian, North Indian    300         Buffet  \n",
       "4                         North Indian, Rajasthani    600         Buffet  \n",
       "...                                            ...    ...            ...  \n",
       "51709                    North Indian, Continental    800  Pubs and bars  \n",
       "51711  Andhra, South Indian, Chinese, North Indian    800  Pubs and bars  \n",
       "51712                                  Continental  1,500  Pubs and bars  \n",
       "51715                                  Finger Food  2,500  Pubs and bars  \n",
       "51716       Finger Food, North Indian, Continental  1,500  Pubs and bars  \n",
       "\n",
       "[43533 rows x 10 columns]"
      ]
     },
     "execution_count": 6,
     "metadata": {},
     "output_type": "execute_result"
    }
   ],
   "source": [
    "df.dropna()"
   ]
  },
  {
   "cell_type": "code",
   "execution_count": 7,
   "id": "3cd73130",
   "metadata": {
    "execution": {
     "iopub.execute_input": "2025-09-05T07:56:38.226296Z",
     "iopub.status.busy": "2025-09-05T07:56:38.225982Z",
     "iopub.status.idle": "2025-09-05T07:56:38.275663Z",
     "shell.execute_reply": "2025-09-05T07:56:38.274548Z"
    },
    "papermill": {
     "duration": 0.062719,
     "end_time": "2025-09-05T07:56:38.277700",
     "exception": false,
     "start_time": "2025-09-05T07:56:38.214981",
     "status": "completed"
    },
    "tags": []
   },
   "outputs": [
    {
     "name": "stdout",
     "output_type": "stream",
     "text": [
      "<class 'pandas.core.frame.DataFrame'>\n",
      "RangeIndex: 51717 entries, 0 to 51716\n",
      "Data columns (total 10 columns):\n",
      " #   Column        Non-Null Count  Dtype \n",
      "---  ------        --------------  ----- \n",
      " 0   restaurants   51717 non-null  object\n",
      " 1   online_order  51717 non-null  object\n",
      " 2   booking       51717 non-null  object\n",
      " 3   rating        43942 non-null  object\n",
      " 4   votes         51717 non-null  int64 \n",
      " 5   location      51696 non-null  object\n",
      " 6   rest_type     51490 non-null  object\n",
      " 7   cuisines      51672 non-null  object\n",
      " 8   cost          51371 non-null  object\n",
      " 9   types         51717 non-null  object\n",
      "dtypes: int64(1), object(9)\n",
      "memory usage: 3.9+ MB\n"
     ]
    }
   ],
   "source": [
    "df.info()"
   ]
  },
  {
   "cell_type": "code",
   "execution_count": 8,
   "id": "2a9b4556",
   "metadata": {
    "execution": {
     "iopub.execute_input": "2025-09-05T07:56:38.300062Z",
     "iopub.status.busy": "2025-09-05T07:56:38.299236Z",
     "iopub.status.idle": "2025-09-05T07:56:38.358795Z",
     "shell.execute_reply": "2025-09-05T07:56:38.357827Z"
    },
    "papermill": {
     "duration": 0.072262,
     "end_time": "2025-09-05T07:56:38.360310",
     "exception": false,
     "start_time": "2025-09-05T07:56:38.288048",
     "status": "completed"
    },
    "tags": []
   },
   "outputs": [
    {
     "data": {
      "text/plain": [
       "162840"
      ]
     },
     "execution_count": 8,
     "metadata": {},
     "output_type": "execute_result"
    }
   ],
   "source": [
    "df[df.duplicated()].count().sum()"
   ]
  },
  {
   "cell_type": "code",
   "execution_count": 9,
   "id": "9531c597",
   "metadata": {
    "execution": {
     "iopub.execute_input": "2025-09-05T07:56:38.381782Z",
     "iopub.status.busy": "2025-09-05T07:56:38.381410Z",
     "iopub.status.idle": "2025-09-05T07:56:38.430157Z",
     "shell.execute_reply": "2025-09-05T07:56:38.429172Z"
    },
    "papermill": {
     "duration": 0.061378,
     "end_time": "2025-09-05T07:56:38.431914",
     "exception": false,
     "start_time": "2025-09-05T07:56:38.370536",
     "status": "completed"
    },
    "tags": []
   },
   "outputs": [],
   "source": [
    "df.drop_duplicates(inplace = True)"
   ]
  },
  {
   "cell_type": "code",
   "execution_count": 10,
   "id": "a3201433",
   "metadata": {
    "execution": {
     "iopub.execute_input": "2025-09-05T07:56:38.453869Z",
     "iopub.status.busy": "2025-09-05T07:56:38.453591Z",
     "iopub.status.idle": "2025-09-05T07:56:38.489035Z",
     "shell.execute_reply": "2025-09-05T07:56:38.488141Z"
    },
    "papermill": {
     "duration": 0.04812,
     "end_time": "2025-09-05T07:56:38.490818",
     "exception": false,
     "start_time": "2025-09-05T07:56:38.442698",
     "status": "completed"
    },
    "tags": []
   },
   "outputs": [
    {
     "data": {
      "text/plain": [
       "0"
      ]
     },
     "execution_count": 10,
     "metadata": {},
     "output_type": "execute_result"
    }
   ],
   "source": [
    "df[df.duplicated()].count().sum()"
   ]
  },
  {
   "cell_type": "markdown",
   "id": "958d76f0",
   "metadata": {
    "papermill": {
     "duration": 0.080863,
     "end_time": "2025-09-05T07:56:38.581711",
     "exception": false,
     "start_time": "2025-09-05T07:56:38.500848",
     "status": "completed"
    },
    "tags": []
   },
   "source": [
    "I dropped the duplicate rows from the dataset to ensure that each restaurant entry is unique and to avoid repetition in the analysis."
   ]
  },
  {
   "cell_type": "markdown",
   "id": "bff9624c",
   "metadata": {
    "papermill": {
     "duration": 0.010067,
     "end_time": "2025-09-05T07:56:38.602001",
     "exception": false,
     "start_time": "2025-09-05T07:56:38.591934",
     "status": "completed"
    },
    "tags": []
   },
   "source": [
    "**Cleaning individual columns**"
   ]
  },
  {
   "cell_type": "code",
   "execution_count": 11,
   "id": "6cf1b80b",
   "metadata": {
    "execution": {
     "iopub.execute_input": "2025-09-05T07:56:38.623531Z",
     "iopub.status.busy": "2025-09-05T07:56:38.623209Z",
     "iopub.status.idle": "2025-09-05T07:56:38.630794Z",
     "shell.execute_reply": "2025-09-05T07:56:38.629854Z"
    },
    "papermill": {
     "duration": 0.020283,
     "end_time": "2025-09-05T07:56:38.632206",
     "exception": false,
     "start_time": "2025-09-05T07:56:38.611923",
     "status": "completed"
    },
    "tags": []
   },
   "outputs": [
    {
     "data": {
      "text/plain": [
       "array(['4.1/5', '3.8/5', '3.7/5', '3.6/5', '4.6/5', '4.0/5', '4.2/5',\n",
       "       '3.9/5', '3.1/5', '3.0/5', '3.2/5', '3.3/5', '2.8/5', '4.4/5',\n",
       "       '4.3/5', 'NEW', '2.9/5', '3.5/5', nan, '2.6/5', '3.8 /5', '3.4/5',\n",
       "       '4.5/5', '2.5/5', '2.7/5', '4.7/5', '2.4/5', '2.2/5', '2.3/5',\n",
       "       '3.4 /5', '-', '3.6 /5', '4.8/5', '3.9 /5', '4.2 /5', '4.0 /5',\n",
       "       '4.1 /5', '3.7 /5', '3.1 /5', '2.9 /5', '3.3 /5', '2.8 /5',\n",
       "       '3.5 /5', '2.7 /5', '2.5 /5', '3.2 /5', '2.6 /5', '4.5 /5',\n",
       "       '4.3 /5', '4.4 /5', '4.9/5', '2.1/5', '2.0/5', '1.8/5', '4.6 /5',\n",
       "       '4.9 /5', '3.0 /5', '4.8 /5', '2.3 /5', '4.7 /5', '2.4 /5',\n",
       "       '2.1 /5', '2.2 /5', '2.0 /5', '1.8 /5'], dtype=object)"
      ]
     },
     "execution_count": 11,
     "metadata": {},
     "output_type": "execute_result"
    }
   ],
   "source": [
    "df['rating'].unique()"
   ]
  },
  {
   "cell_type": "code",
   "execution_count": 12,
   "id": "96376b75",
   "metadata": {
    "execution": {
     "iopub.execute_input": "2025-09-05T07:56:38.654507Z",
     "iopub.status.busy": "2025-09-05T07:56:38.654161Z",
     "iopub.status.idle": "2025-09-05T07:56:38.689556Z",
     "shell.execute_reply": "2025-09-05T07:56:38.688674Z"
    },
    "papermill": {
     "duration": 0.048411,
     "end_time": "2025-09-05T07:56:38.691101",
     "exception": false,
     "start_time": "2025-09-05T07:56:38.642690",
     "status": "completed"
    },
    "tags": []
   },
   "outputs": [
    {
     "data": {
      "text/plain": [
       "array(['4.10', '3.80', '3.70', '3.60', '4.60', '4.00', '4.20', '3.90',\n",
       "       '3.10', '3.00', '3.20', '3.30', '2.80', '4.40', '4.30', 'NEW',\n",
       "       '2.90', '3.50', nan, '2.60', '3.8 0', '3.40', '4.50', '2.50',\n",
       "       '2.70', '4.70', '2.40', '2.20', '2.30', '3.4 0', '0', '3.6 0',\n",
       "       '4.80', '3.9 0', '4.2 0', '4.0 0', '4.1 0', '3.7 0', '3.1 0',\n",
       "       '2.9 0', '3.3 0', '2.8 0', '3.5 0', '2.7 0', '2.5 0', '3.2 0',\n",
       "       '2.6 0', '4.5 0', '4.3 0', '4.4 0', '4.90', '2.10', '2.00', '1.80',\n",
       "       '4.6 0', '4.9 0', '3.0 0', '4.8 0', '2.3 0', '4.7 0', '2.4 0',\n",
       "       '2.1 0', '2.2 0', '2.0 0', '1.8 0'], dtype=object)"
      ]
     },
     "execution_count": 12,
     "metadata": {},
     "output_type": "execute_result"
    }
   ],
   "source": [
    "df['rating'] = df['rating'].replace('New|\\-|\\/5|\\/5','0', regex = True)\n",
    "df['rating'].unique()"
   ]
  },
  {
   "cell_type": "code",
   "execution_count": 13,
   "id": "113b1d91",
   "metadata": {
    "execution": {
     "iopub.execute_input": "2025-09-05T07:56:38.713181Z",
     "iopub.status.busy": "2025-09-05T07:56:38.712903Z",
     "iopub.status.idle": "2025-09-05T07:56:38.724877Z",
     "shell.execute_reply": "2025-09-05T07:56:38.723941Z"
    },
    "papermill": {
     "duration": 0.024994,
     "end_time": "2025-09-05T07:56:38.726599",
     "exception": false,
     "start_time": "2025-09-05T07:56:38.701605",
     "status": "completed"
    },
    "tags": []
   },
   "outputs": [],
   "source": [
    "df['rating'] = df['rating'].replace(['NEW', '-', 'nan'], None)"
   ]
  },
  {
   "cell_type": "code",
   "execution_count": 14,
   "id": "fb0cacea",
   "metadata": {
    "execution": {
     "iopub.execute_input": "2025-09-05T07:56:38.749315Z",
     "iopub.status.busy": "2025-09-05T07:56:38.749004Z",
     "iopub.status.idle": "2025-09-05T07:56:38.768103Z",
     "shell.execute_reply": "2025-09-05T07:56:38.766940Z"
    },
    "papermill": {
     "duration": 0.032055,
     "end_time": "2025-09-05T07:56:38.769798",
     "exception": false,
     "start_time": "2025-09-05T07:56:38.737743",
     "status": "completed"
    },
    "tags": []
   },
   "outputs": [],
   "source": [
    "df['rating'] = df['rating'].str.replace('/5', '', regex=True)"
   ]
  },
  {
   "cell_type": "code",
   "execution_count": 15,
   "id": "976725e7",
   "metadata": {
    "execution": {
     "iopub.execute_input": "2025-09-05T07:56:38.793115Z",
     "iopub.status.busy": "2025-09-05T07:56:38.792764Z",
     "iopub.status.idle": "2025-09-05T07:56:38.814124Z",
     "shell.execute_reply": "2025-09-05T07:56:38.813229Z"
    },
    "papermill": {
     "duration": 0.034948,
     "end_time": "2025-09-05T07:56:38.815578",
     "exception": false,
     "start_time": "2025-09-05T07:56:38.780630",
     "status": "completed"
    },
    "tags": []
   },
   "outputs": [],
   "source": [
    "df['rating'] = pd.to_numeric(df['rating'], errors='coerce')"
   ]
  },
  {
   "cell_type": "code",
   "execution_count": 16,
   "id": "77d2ab1a",
   "metadata": {
    "execution": {
     "iopub.execute_input": "2025-09-05T07:56:38.838637Z",
     "iopub.status.busy": "2025-09-05T07:56:38.838326Z",
     "iopub.status.idle": "2025-09-05T07:56:38.844330Z",
     "shell.execute_reply": "2025-09-05T07:56:38.843353Z"
    },
    "papermill": {
     "duration": 0.019432,
     "end_time": "2025-09-05T07:56:38.846014",
     "exception": false,
     "start_time": "2025-09-05T07:56:38.826582",
     "status": "completed"
    },
    "tags": []
   },
   "outputs": [],
   "source": [
    "df['rating'] = df['rating'].fillna(0)"
   ]
  },
  {
   "cell_type": "code",
   "execution_count": 17,
   "id": "335ebdca",
   "metadata": {
    "execution": {
     "iopub.execute_input": "2025-09-05T07:56:38.868417Z",
     "iopub.status.busy": "2025-09-05T07:56:38.868073Z",
     "iopub.status.idle": "2025-09-05T07:56:38.876608Z",
     "shell.execute_reply": "2025-09-05T07:56:38.875232Z"
    },
    "papermill": {
     "duration": 0.021337,
     "end_time": "2025-09-05T07:56:38.878190",
     "exception": false,
     "start_time": "2025-09-05T07:56:38.856853",
     "status": "completed"
    },
    "tags": []
   },
   "outputs": [
    {
     "name": "stdout",
     "output_type": "stream",
     "text": [
      "[4.1 3.8 3.7 3.6 4.6 4.  4.2 3.9 3.1 3.  3.2 3.3 2.8 4.4 4.3 0.  2.9 3.5\n",
      " 2.6 3.4]\n",
      "float64\n"
     ]
    }
   ],
   "source": [
    "print(df['rating'].unique()[:20])\n",
    "print(df['rating'].dtype)"
   ]
  },
  {
   "cell_type": "markdown",
   "id": "2786e53c",
   "metadata": {
    "papermill": {
     "duration": 0.012791,
     "end_time": "2025-09-05T07:56:38.902251",
     "exception": false,
     "start_time": "2025-09-05T07:56:38.889460",
     "status": "completed"
    },
    "tags": []
   },
   "source": [
    "I cleaned the rating column by replacing values like 'New', '-', and formats such as '/5' with 0. This helps in standardizing the ratings into a numeric form. After that, I checked the unique values to verify the changes."
   ]
  },
  {
   "cell_type": "markdown",
   "id": "803a254e",
   "metadata": {
    "papermill": {
     "duration": 0.011126,
     "end_time": "2025-09-05T07:56:38.924589",
     "exception": false,
     "start_time": "2025-09-05T07:56:38.913463",
     "status": "completed"
    },
    "tags": []
   },
   "source": [
    "# **Data Visualization** "
   ]
  },
  {
   "cell_type": "code",
   "execution_count": 18,
   "id": "7cdade35",
   "metadata": {
    "execution": {
     "iopub.execute_input": "2025-09-05T07:56:38.950064Z",
     "iopub.status.busy": "2025-09-05T07:56:38.949277Z",
     "iopub.status.idle": "2025-09-05T07:56:41.149020Z",
     "shell.execute_reply": "2025-09-05T07:56:41.147995Z"
    },
    "papermill": {
     "duration": 2.213831,
     "end_time": "2025-09-05T07:56:41.150903",
     "exception": false,
     "start_time": "2025-09-05T07:56:38.937072",
     "status": "completed"
    },
    "tags": []
   },
   "outputs": [],
   "source": [
    "import numpy as np\n",
    "import pandas as pd\n",
    "%matplotlib inline\n",
    "import matplotlib.pyplot as plt\n",
    "import seaborn as sns"
   ]
  },
  {
   "cell_type": "markdown",
   "id": "c0100f38",
   "metadata": {
    "papermill": {
     "duration": 0.01122,
     "end_time": "2025-09-05T07:56:41.173169",
     "exception": false,
     "start_time": "2025-09-05T07:56:41.161949",
     "status": "completed"
    },
    "tags": []
   },
   "source": [
    "**Restaurant delivering online or not**"
   ]
  },
  {
   "cell_type": "code",
   "execution_count": 19,
   "id": "66359c54",
   "metadata": {
    "execution": {
     "iopub.execute_input": "2025-09-05T07:56:41.197642Z",
     "iopub.status.busy": "2025-09-05T07:56:41.196230Z",
     "iopub.status.idle": "2025-09-05T07:56:41.220605Z",
     "shell.execute_reply": "2025-09-05T07:56:41.219548Z"
    },
    "papermill": {
     "duration": 0.037431,
     "end_time": "2025-09-05T07:56:41.222255",
     "exception": false,
     "start_time": "2025-09-05T07:56:41.184824",
     "status": "completed"
    },
    "tags": []
   },
   "outputs": [
    {
     "data": {
      "text/plain": [
       "<Figure size 640x480 with 0 Axes>"
      ]
     },
     "metadata": {},
     "output_type": "display_data"
    }
   ],
   "source": [
    "fig = plt.figure()"
   ]
  },
  {
   "cell_type": "code",
   "execution_count": 20,
   "id": "8281011d",
   "metadata": {
    "execution": {
     "iopub.execute_input": "2025-09-05T07:56:41.245192Z",
     "iopub.status.busy": "2025-09-05T07:56:41.244873Z",
     "iopub.status.idle": "2025-09-05T07:56:41.617337Z",
     "shell.execute_reply": "2025-09-05T07:56:41.616350Z"
    },
    "papermill": {
     "duration": 0.386674,
     "end_time": "2025-09-05T07:56:41.619656",
     "exception": false,
     "start_time": "2025-09-05T07:56:41.232982",
     "status": "completed"
    },
    "tags": []
   },
   "outputs": [
    {
     "data": {
      "text/plain": [
       "<Axes: xlabel='online_order', ylabel='count'>"
      ]
     },
     "execution_count": 20,
     "metadata": {},
     "output_type": "execute_result"
    },
    {
     "data": {
      "image/png": "[encoded data removed]",
      "text/plain": [
       "<Figure size 640x480 with 1 Axes>"
      ]
     },
     "metadata": {},
     "output_type": "display_data"
    }
   ],
   "source": [
    "sns.countplot(x = 'online_order', data = df)"
   ]
  },
  {
   "cell_type": "markdown",
   "id": "d160afc2",
   "metadata": {
    "papermill": {
     "duration": 0.011434,
     "end_time": "2025-09-05T07:56:41.642406",
     "exception": false,
     "start_time": "2025-09-05T07:56:41.630972",
     "status": "completed"
    },
    "tags": []
   },
   "source": [
    "I plotted the count of restaurants that deliver food online versus those that do not. From the data, 30,444 restaurants offer online delivery while 21,273 do not. This shows that a majority of restaurants on Zomato provide online delivery services."
   ]
  },
  {
   "cell_type": "markdown",
   "id": "d79c0ed4",
   "metadata": {
    "papermill": {
     "duration": 0.010703,
     "end_time": "2025-09-05T07:56:41.664192",
     "exception": false,
     "start_time": "2025-09-05T07:56:41.653489",
     "status": "completed"
    },
    "tags": []
   },
   "source": [
    "**Restaurant allowing table booking or not**"
   ]
  },
  {
   "cell_type": "code",
   "execution_count": 21,
   "id": "15c48c26",
   "metadata": {
    "execution": {
     "iopub.execute_input": "2025-09-05T07:56:41.688437Z",
     "iopub.status.busy": "2025-09-05T07:56:41.688079Z",
     "iopub.status.idle": "2025-09-05T07:56:41.840460Z",
     "shell.execute_reply": "2025-09-05T07:56:41.839217Z"
    },
    "papermill": {
     "duration": 0.166936,
     "end_time": "2025-09-05T07:56:41.842249",
     "exception": false,
     "start_time": "2025-09-05T07:56:41.675313",
     "status": "completed"
    },
    "tags": []
   },
   "outputs": [
    {
     "data": {
      "text/plain": [
       "<Axes: xlabel='booking', ylabel='count'>"
      ]
     },
     "execution_count": 21,
     "metadata": {},
     "output_type": "execute_result"
    },
    {
     "data": {
      "image/png": "[encoded data removed]",
      "text/plain": [
       "<Figure size 640x480 with 1 Axes>"
      ]
     },
     "metadata": {},
     "output_type": "display_data"
    }
   ],
   "source": [
    "sns.countplot(x = 'booking', data = df, palette = 'coolwarm')"
   ]
  },
  {
   "cell_type": "markdown",
   "id": "58647ec1",
   "metadata": {
    "papermill": {
     "duration": 0.011185,
     "end_time": "2025-09-05T07:56:41.865113",
     "exception": false,
     "start_time": "2025-09-05T07:56:41.853928",
     "status": "completed"
    },
    "tags": []
   },
   "source": [
    "I visualized the number of restaurants that allow table booking compared to those that do not. This helps me understand the availability of reservation services among restaurants on Zomato."
   ]
  },
  {
   "cell_type": "markdown",
   "id": "1f639169",
   "metadata": {
    "papermill": {
     "duration": 0.012149,
     "end_time": "2025-09-05T07:56:41.888948",
     "exception": false,
     "start_time": "2025-09-05T07:56:41.876799",
     "status": "completed"
    },
    "tags": []
   },
   "source": [
    "**Table booking rate vs rate**"
   ]
  },
  {
   "cell_type": "code",
   "execution_count": 22,
   "id": "785f67df",
   "metadata": {
    "execution": {
     "iopub.execute_input": "2025-09-05T07:56:41.916275Z",
     "iopub.status.busy": "2025-09-05T07:56:41.915924Z",
     "iopub.status.idle": "2025-09-05T07:56:42.462462Z",
     "shell.execute_reply": "2025-09-05T07:56:42.461402Z"
    },
    "papermill": {
     "duration": 0.56356,
     "end_time": "2025-09-05T07:56:42.464195",
     "exception": false,
     "start_time": "2025-09-05T07:56:41.900635",
     "status": "completed"
    },
    "tags": []
   },
   "outputs": [
    {
     "data": {
      "text/plain": [
       "<Axes: xlabel='booking', ylabel='rating'>"
      ]
     },
     "execution_count": 22,
     "metadata": {},
     "output_type": "execute_result"
    },
    {
     "data": {
      "image/png": "[encoded data removed]",
      "text/plain": [
       "<Figure size 640x480 with 1 Axes>"
      ]
     },
     "metadata": {},
     "output_type": "display_data"
    }
   ],
   "source": [
    "sns.barplot(x = 'booking', y = 'rating', hue = 'booking', data = df, palette = 'rainbow')"
   ]
  },
  {
   "cell_type": "markdown",
   "id": "1aa16ac9",
   "metadata": {
    "papermill": {
     "duration": 0.011617,
     "end_time": "2025-09-05T07:56:42.489162",
     "exception": false,
     "start_time": "2025-09-05T07:56:42.477545",
     "status": "completed"
    },
    "tags": []
   },
   "source": [
    "**Best Location**"
   ]
  },
  {
   "cell_type": "code",
   "execution_count": 23,
   "id": "bc21e1b1",
   "metadata": {
    "execution": {
     "iopub.execute_input": "2025-09-05T07:56:42.514285Z",
     "iopub.status.busy": "2025-09-05T07:56:42.513910Z",
     "iopub.status.idle": "2025-09-05T07:56:42.527828Z",
     "shell.execute_reply": "2025-09-05T07:56:42.526859Z"
    },
    "papermill": {
     "duration": 0.028553,
     "end_time": "2025-09-05T07:56:42.529500",
     "exception": false,
     "start_time": "2025-09-05T07:56:42.500947",
     "status": "completed"
    },
    "tags": []
   },
   "outputs": [
    {
     "data": {
      "text/html": [
       "<div>\n",
       "<style scoped>\n",
       "    .dataframe tbody tr th:only-of-type {\n",
       "        vertical-align: middle;\n",
       "    }\n",
       "\n",
       "    .dataframe tbody tr th {\n",
       "        vertical-align: top;\n",
       "    }\n",
       "\n",
       "    .dataframe thead th {\n",
       "        text-align: right;\n",
       "    }\n",
       "</style>\n",
       "<table border=\"1\" class=\"dataframe\">\n",
       "  <thead>\n",
       "    <tr style=\"text-align: right;\">\n",
       "      <th></th>\n",
       "      <th>location</th>\n",
       "      <th>rating</th>\n",
       "    </tr>\n",
       "  </thead>\n",
       "  <tbody>\n",
       "    <tr>\n",
       "      <th>0</th>\n",
       "      <td>BTM</td>\n",
       "      <td>2514</td>\n",
       "    </tr>\n",
       "    <tr>\n",
       "      <th>1</th>\n",
       "      <td>Banashankari</td>\n",
       "      <td>573</td>\n",
       "    </tr>\n",
       "    <tr>\n",
       "      <th>2</th>\n",
       "      <td>Banaswadi</td>\n",
       "      <td>442</td>\n",
       "    </tr>\n",
       "    <tr>\n",
       "      <th>3</th>\n",
       "      <td>Bannerghatta Road</td>\n",
       "      <td>1060</td>\n",
       "    </tr>\n",
       "    <tr>\n",
       "      <th>4</th>\n",
       "      <td>Basavanagudi</td>\n",
       "      <td>463</td>\n",
       "    </tr>\n",
       "  </tbody>\n",
       "</table>\n",
       "</div>"
      ],
      "text/plain": [
       "            location  rating\n",
       "0                BTM    2514\n",
       "1       Banashankari     573\n",
       "2          Banaswadi     442\n",
       "3  Bannerghatta Road    1060\n",
       "4       Basavanagudi     463"
      ]
     },
     "execution_count": 23,
     "metadata": {},
     "output_type": "execute_result"
    }
   ],
   "source": [
    "best_loc = df.groupby('location')['rating'].count().reset_index()\n",
    "best_loc.head()"
   ]
  },
  {
   "cell_type": "code",
   "execution_count": 24,
   "id": "f4177604",
   "metadata": {
    "execution": {
     "iopub.execute_input": "2025-09-05T07:56:42.555401Z",
     "iopub.status.busy": "2025-09-05T07:56:42.555033Z",
     "iopub.status.idle": "2025-09-05T07:56:42.571865Z",
     "shell.execute_reply": "2025-09-05T07:56:42.570876Z"
    },
    "papermill": {
     "duration": 0.031951,
     "end_time": "2025-09-05T07:56:42.573913",
     "exception": false,
     "start_time": "2025-09-05T07:56:42.541962",
     "status": "completed"
    },
    "tags": []
   },
   "outputs": [
    {
     "data": {
      "text/html": [
       "<div>\n",
       "<style scoped>\n",
       "    .dataframe tbody tr th:only-of-type {\n",
       "        vertical-align: middle;\n",
       "    }\n",
       "\n",
       "    .dataframe tbody tr th {\n",
       "        vertical-align: top;\n",
       "    }\n",
       "\n",
       "    .dataframe thead th {\n",
       "        text-align: right;\n",
       "    }\n",
       "</style>\n",
       "<table border=\"1\" class=\"dataframe\">\n",
       "  <thead>\n",
       "    <tr style=\"text-align: right;\">\n",
       "      <th></th>\n",
       "      <th>rating</th>\n",
       "    </tr>\n",
       "    <tr>\n",
       "      <th>location</th>\n",
       "      <th></th>\n",
       "    </tr>\n",
       "  </thead>\n",
       "  <tbody>\n",
       "    <tr>\n",
       "      <th>BTM</th>\n",
       "      <td>4351.1</td>\n",
       "    </tr>\n",
       "    <tr>\n",
       "      <th>Banashankari</th>\n",
       "      <td>1600.9</td>\n",
       "    </tr>\n",
       "    <tr>\n",
       "      <th>Banaswadi</th>\n",
       "      <td>847.7</td>\n",
       "    </tr>\n",
       "    <tr>\n",
       "      <th>Bannerghatta Road</th>\n",
       "      <td>2722.0</td>\n",
       "    </tr>\n",
       "    <tr>\n",
       "      <th>Basavanagudi</th>\n",
       "      <td>1040.6</td>\n",
       "    </tr>\n",
       "  </tbody>\n",
       "</table>\n",
       "</div>"
      ],
      "text/plain": [
       "                   rating\n",
       "location                 \n",
       "BTM                4351.1\n",
       "Banashankari       1600.9\n",
       "Banaswadi           847.7\n",
       "Bannerghatta Road  2722.0\n",
       "Basavanagudi       1040.6"
      ]
     },
     "execution_count": 24,
     "metadata": {},
     "output_type": "execute_result"
    }
   ],
   "source": [
    "x = pd.DataFrame(df.groupby('location')['rating'].sum())\n",
    "x.head()"
   ]
  },
  {
   "cell_type": "code",
   "execution_count": 25,
   "id": "b3bb036a",
   "metadata": {
    "execution": {
     "iopub.execute_input": "2025-09-05T07:56:42.600139Z",
     "iopub.status.busy": "2025-09-05T07:56:42.599718Z",
     "iopub.status.idle": "2025-09-05T07:56:42.606566Z",
     "shell.execute_reply": "2025-09-05T07:56:42.605448Z"
    },
    "papermill": {
     "duration": 0.021561,
     "end_time": "2025-09-05T07:56:42.608315",
     "exception": false,
     "start_time": "2025-09-05T07:56:42.586754",
     "status": "completed"
    },
    "tags": []
   },
   "outputs": [],
   "source": [
    "best_loc = x.sort_values(by = 'rating', ascending = False).head(10)"
   ]
  },
  {
   "cell_type": "code",
   "execution_count": 26,
   "id": "614765c7",
   "metadata": {
    "execution": {
     "iopub.execute_input": "2025-09-05T07:56:42.634418Z",
     "iopub.status.busy": "2025-09-05T07:56:42.634052Z",
     "iopub.status.idle": "2025-09-05T07:56:42.849099Z",
     "shell.execute_reply": "2025-09-05T07:56:42.848101Z"
    },
    "papermill": {
     "duration": 0.230329,
     "end_time": "2025-09-05T07:56:42.851217",
     "exception": false,
     "start_time": "2025-09-05T07:56:42.620888",
     "status": "completed"
    },
    "tags": []
   },
   "outputs": [
    {
     "data": {
      "text/plain": [
       "<Axes: xlabel='rating', ylabel='location'>"
      ]
     },
     "execution_count": 26,
     "metadata": {},
     "output_type": "execute_result"
    },
    {
     "data": {
      "image/png": "[encoded data removed]",
      "text/plain": [
       "<Figure size 640x480 with 1 Axes>"
      ]
     },
     "metadata": {},
     "output_type": "display_data"
    }
   ],
   "source": [
    "sns.barplot(best_loc, y = best_loc.index, x = 'rating')"
   ]
  },
  {
   "cell_type": "markdown",
   "id": "70f3c749",
   "metadata": {
    "papermill": {
     "duration": 0.012338,
     "end_time": "2025-09-05T07:56:42.876677",
     "exception": false,
     "start_time": "2025-09-05T07:56:42.864339",
     "status": "completed"
    },
    "tags": []
   },
   "source": [
    "**Relation between location and rating**"
   ]
  },
  {
   "cell_type": "code",
   "execution_count": 27,
   "id": "defed881",
   "metadata": {
    "execution": {
     "iopub.execute_input": "2025-09-05T07:56:42.906584Z",
     "iopub.status.busy": "2025-09-05T07:56:42.906166Z",
     "iopub.status.idle": "2025-09-05T07:56:42.917450Z",
     "shell.execute_reply": "2025-09-05T07:56:42.916405Z"
    },
    "papermill": {
     "duration": 0.029437,
     "end_time": "2025-09-05T07:56:42.919283",
     "exception": false,
     "start_time": "2025-09-05T07:56:42.889846",
     "status": "completed"
    },
    "tags": []
   },
   "outputs": [],
   "source": [
    "a = df.groupby('location')['rating'].mean()"
   ]
  },
  {
   "cell_type": "code",
   "execution_count": 28,
   "id": "653fb6dd",
   "metadata": {
    "execution": {
     "iopub.execute_input": "2025-09-05T07:56:42.946674Z",
     "iopub.status.busy": "2025-09-05T07:56:42.946332Z",
     "iopub.status.idle": "2025-09-05T07:56:42.953514Z",
     "shell.execute_reply": "2025-09-05T07:56:42.952128Z"
    },
    "papermill": {
     "duration": 0.022916,
     "end_time": "2025-09-05T07:56:42.955176",
     "exception": false,
     "start_time": "2025-09-05T07:56:42.932260",
     "status": "completed"
    },
    "tags": []
   },
   "outputs": [
    {
     "name": "stdout",
     "output_type": "stream",
     "text": [
      "location\n",
      "Rajarajeshwari Nagar    3.850000\n",
      "Kanakapura Road         3.478947\n",
      "Kengeri                 2.960000\n",
      "Kumaraswamy Layout      2.837313\n",
      "Nagawara                2.812821\n",
      "Banashankari            2.793892\n",
      "Rammurthy Nagar         2.647368\n",
      "Mysore Road             2.609524\n",
      "JP Nagar                2.600921\n",
      "Bannerghatta Road       2.567925\n",
      "Name: rating, dtype: float64\n"
     ]
    }
   ],
   "source": [
    "s = a.sort_values(ascending=False).head(10)\n",
    "print(s)"
   ]
  },
  {
   "cell_type": "code",
   "execution_count": 29,
   "id": "8e635e5d",
   "metadata": {
    "execution": {
     "iopub.execute_input": "2025-09-05T07:56:42.986019Z",
     "iopub.status.busy": "2025-09-05T07:56:42.985080Z",
     "iopub.status.idle": "2025-09-05T07:56:43.204281Z",
     "shell.execute_reply": "2025-09-05T07:56:43.203194Z"
    },
    "papermill": {
     "duration": 0.235609,
     "end_time": "2025-09-05T07:56:43.206410",
     "exception": false,
     "start_time": "2025-09-05T07:56:42.970801",
     "status": "completed"
    },
    "tags": []
   },
   "outputs": [
    {
     "data": {
      "text/plain": [
       "<Axes: xlabel='location'>"
      ]
     },
     "execution_count": 29,
     "metadata": {},
     "output_type": "execute_result"
    },
    {
     "data": {
      "image/png": "[encoded data removed]",
      "text/plain": [
       "<Figure size 640x480 with 1 Axes>"
      ]
     },
     "metadata": {},
     "output_type": "display_data"
    }
   ],
   "source": [
    "sns.barplot(x = s.index, y = s.values, palette = 'Set1')"
   ]
  },
  {
   "cell_type": "code",
   "execution_count": 30,
   "id": "dad35852",
   "metadata": {
    "execution": {
     "iopub.execute_input": "2025-09-05T07:56:43.235522Z",
     "iopub.status.busy": "2025-09-05T07:56:43.235155Z",
     "iopub.status.idle": "2025-09-05T07:56:43.472103Z",
     "shell.execute_reply": "2025-09-05T07:56:43.470962Z"
    },
    "papermill": {
     "duration": 0.253254,
     "end_time": "2025-09-05T07:56:43.473982",
     "exception": false,
     "start_time": "2025-09-05T07:56:43.220728",
     "status": "completed"
    },
    "tags": []
   },
   "outputs": [
    {
     "data": {
      "text/plain": [
       "(array([0, 1, 2, 3, 4, 5, 6, 7, 8, 9]),\n",
       " [Text(0, 0, 'Rajarajeshwari Nagar'),\n",
       "  Text(1, 0, 'Kanakapura Road'),\n",
       "  Text(2, 0, 'Kengeri'),\n",
       "  Text(3, 0, 'Kumaraswamy Layout'),\n",
       "  Text(4, 0, 'Nagawara'),\n",
       "  Text(5, 0, 'Banashankari'),\n",
       "  Text(6, 0, 'Rammurthy Nagar'),\n",
       "  Text(7, 0, 'Mysore Road'),\n",
       "  Text(8, 0, 'JP Nagar'),\n",
       "  Text(9, 0, 'Bannerghatta Road')])"
      ]
     },
     "execution_count": 30,
     "metadata": {},
     "output_type": "execute_result"
    },
    {
     "data": {
      "image/png": "[encoded data removed]",
      "text/plain": [
       "<Figure size 640x480 with 1 Axes>"
      ]
     },
     "metadata": {},
     "output_type": "display_data"
    }
   ],
   "source": [
    "sns.barplot(x = s.index, y = s.values, palette = 'Set1')\n",
    "plt.xticks(rotation = 90)"
   ]
  },
  {
   "cell_type": "markdown",
   "id": "06d98edb",
   "metadata": {
    "papermill": {
     "duration": 0.014029,
     "end_time": "2025-09-05T07:56:43.502930",
     "exception": false,
     "start_time": "2025-09-05T07:56:43.488901",
     "status": "completed"
    },
    "tags": []
   },
   "source": [
    "**Cost of restaurant**"
   ]
  },
  {
   "cell_type": "code",
   "execution_count": 31,
   "id": "4413f338",
   "metadata": {
    "execution": {
     "iopub.execute_input": "2025-09-05T07:56:43.533228Z",
     "iopub.status.busy": "2025-09-05T07:56:43.532896Z",
     "iopub.status.idle": "2025-09-05T07:56:43.539933Z",
     "shell.execute_reply": "2025-09-05T07:56:43.539043Z"
    },
    "papermill": {
     "duration": 0.024208,
     "end_time": "2025-09-05T07:56:43.541554",
     "exception": false,
     "start_time": "2025-09-05T07:56:43.517346",
     "status": "completed"
    },
    "tags": []
   },
   "outputs": [
    {
     "data": {
      "text/plain": [
       "Index(['restaurants', 'online_order', 'booking', 'rating', 'votes', 'location',\n",
       "       'rest_type', 'cuisines', 'cost', 'types'],\n",
       "      dtype='object')"
      ]
     },
     "execution_count": 31,
     "metadata": {},
     "output_type": "execute_result"
    }
   ],
   "source": [
    "df.columns"
   ]
  },
  {
   "cell_type": "code",
   "execution_count": 32,
   "id": "70a53e2d",
   "metadata": {
    "execution": {
     "iopub.execute_input": "2025-09-05T07:56:43.572680Z",
     "iopub.status.busy": "2025-09-05T07:56:43.572344Z",
     "iopub.status.idle": "2025-09-05T07:56:43.580178Z",
     "shell.execute_reply": "2025-09-05T07:56:43.579271Z"
    },
    "papermill": {
     "duration": 0.025096,
     "end_time": "2025-09-05T07:56:43.581799",
     "exception": false,
     "start_time": "2025-09-05T07:56:43.556703",
     "status": "completed"
    },
    "tags": []
   },
   "outputs": [
    {
     "data": {
      "text/plain": [
       "0          800\n",
       "1          800\n",
       "2          800\n",
       "3          300\n",
       "4          600\n",
       "         ...  \n",
       "51712    1,500\n",
       "51713      600\n",
       "51714    2,000\n",
       "51715    2,500\n",
       "51716    1,500\n",
       "Name: cost, Length: 35011, dtype: object"
      ]
     },
     "execution_count": 32,
     "metadata": {},
     "output_type": "execute_result"
    }
   ],
   "source": [
    "df.cost"
   ]
  },
  {
   "cell_type": "code",
   "execution_count": 33,
   "id": "80e11c0b",
   "metadata": {
    "execution": {
     "iopub.execute_input": "2025-09-05T07:56:43.612250Z",
     "iopub.status.busy": "2025-09-05T07:56:43.611911Z",
     "iopub.status.idle": "2025-09-05T07:56:43.626116Z",
     "shell.execute_reply": "2025-09-05T07:56:43.625205Z"
    },
    "papermill": {
     "duration": 0.031836,
     "end_time": "2025-09-05T07:56:43.628064",
     "exception": false,
     "start_time": "2025-09-05T07:56:43.596228",
     "status": "completed"
    },
    "tags": []
   },
   "outputs": [],
   "source": [
    "df['cost'] = df['cost'].str.replace(',', '')"
   ]
  },
  {
   "cell_type": "code",
   "execution_count": 34,
   "id": "a65e8a87",
   "metadata": {
    "execution": {
     "iopub.execute_input": "2025-09-05T07:56:43.659302Z",
     "iopub.status.busy": "2025-09-05T07:56:43.658955Z",
     "iopub.status.idle": "2025-09-05T07:56:43.670079Z",
     "shell.execute_reply": "2025-09-05T07:56:43.669245Z"
    },
    "papermill": {
     "duration": 0.029224,
     "end_time": "2025-09-05T07:56:43.671831",
     "exception": false,
     "start_time": "2025-09-05T07:56:43.642607",
     "status": "completed"
    },
    "tags": []
   },
   "outputs": [],
   "source": [
    "df['cost'] = df['cost'].astype('float64')"
   ]
  },
  {
   "cell_type": "code",
   "execution_count": 35,
   "id": "be59ce6b",
   "metadata": {
    "execution": {
     "iopub.execute_input": "2025-09-05T07:56:43.703275Z",
     "iopub.status.busy": "2025-09-05T07:56:43.702322Z",
     "iopub.status.idle": "2025-09-05T07:56:43.709706Z",
     "shell.execute_reply": "2025-09-05T07:56:43.708647Z"
    },
    "papermill": {
     "duration": 0.025077,
     "end_time": "2025-09-05T07:56:43.711435",
     "exception": false,
     "start_time": "2025-09-05T07:56:43.686358",
     "status": "completed"
    },
    "tags": []
   },
   "outputs": [
    {
     "data": {
      "text/plain": [
       "221"
      ]
     },
     "execution_count": 35,
     "metadata": {},
     "output_type": "execute_result"
    }
   ],
   "source": [
    "df['cost'].isna().sum()"
   ]
  },
  {
   "cell_type": "code",
   "execution_count": 36,
   "id": "a4050b8b",
   "metadata": {
    "execution": {
     "iopub.execute_input": "2025-09-05T07:56:43.742813Z",
     "iopub.status.busy": "2025-09-05T07:56:43.742479Z",
     "iopub.status.idle": "2025-09-05T07:56:44.025775Z",
     "shell.execute_reply": "2025-09-05T07:56:44.024494Z"
    },
    "papermill": {
     "duration": 0.301132,
     "end_time": "2025-09-05T07:56:44.027938",
     "exception": false,
     "start_time": "2025-09-05T07:56:43.726806",
     "status": "completed"
    },
    "tags": []
   },
   "outputs": [
    {
     "data": {
      "text/plain": [
       "<Axes: xlabel='location'>"
      ]
     },
     "execution_count": 36,
     "metadata": {},
     "output_type": "execute_result"
    },
    {
     "data": {
      "image/png": "[encoded data removed]",
      "text/plain": [
       "<Figure size 640x480 with 1 Axes>"
      ]
     },
     "metadata": {},
     "output_type": "display_data"
    }
   ],
   "source": [
    "df.groupby(['location'])['cost'].mean().sort_values(ascending = False).head(10).plot(kind = 'bar')"
   ]
  },
  {
   "cell_type": "code",
   "execution_count": 37,
   "id": "6eb67cbf",
   "metadata": {
    "execution": {
     "iopub.execute_input": "2025-09-05T07:56:44.060638Z",
     "iopub.status.busy": "2025-09-05T07:56:44.060271Z",
     "iopub.status.idle": "2025-09-05T07:56:44.277863Z",
     "shell.execute_reply": "2025-09-05T07:56:44.276815Z"
    },
    "papermill": {
     "duration": 0.235847,
     "end_time": "2025-09-05T07:56:44.279523",
     "exception": false,
     "start_time": "2025-09-05T07:56:44.043676",
     "status": "completed"
    },
    "tags": []
   },
   "outputs": [
    {
     "data": {
      "text/plain": [
       "<Axes: xlabel='location'>"
      ]
     },
     "execution_count": 37,
     "metadata": {},
     "output_type": "execute_result"
    },
    {
     "data": {
      "image/png": "[encoded data removed]",
      "text/plain": [
       "<Figure size 640x480 with 1 Axes>"
      ]
     },
     "metadata": {},
     "output_type": "display_data"
    }
   ],
   "source": [
    "df.groupby('location')['cost'].mean().sort_values(ascending = False).tail(10).plot(kind = 'bar')"
   ]
  },
  {
   "cell_type": "markdown",
   "id": "906e330b",
   "metadata": {
    "papermill": {
     "duration": 0.016009,
     "end_time": "2025-09-05T07:56:44.311633",
     "exception": false,
     "start_time": "2025-09-05T07:56:44.295624",
     "status": "completed"
    },
    "tags": []
   },
   "source": [
    "**Number of restaurant in location**"
   ]
  },
  {
   "cell_type": "code",
   "execution_count": 38,
   "id": "a79d4f63",
   "metadata": {
    "execution": {
     "iopub.execute_input": "2025-09-05T07:56:44.346272Z",
     "iopub.status.busy": "2025-09-05T07:56:44.345932Z",
     "iopub.status.idle": "2025-09-05T07:56:44.356235Z",
     "shell.execute_reply": "2025-09-05T07:56:44.355214Z"
    },
    "papermill": {
     "duration": 0.03011,
     "end_time": "2025-09-05T07:56:44.357955",
     "exception": false,
     "start_time": "2025-09-05T07:56:44.327845",
     "status": "completed"
    },
    "tags": []
   },
   "outputs": [
    {
     "data": {
      "text/plain": [
       "location\n",
       "BTM             2514\n",
       "Whitefield      1972\n",
       "Indiranagar     1789\n",
       "HSR             1769\n",
       "Marathahalli    1683\n",
       "Name: count, dtype: int64"
      ]
     },
     "execution_count": 38,
     "metadata": {},
     "output_type": "execute_result"
    }
   ],
   "source": [
    "df['location'].value_counts().head()"
   ]
  },
  {
   "cell_type": "code",
   "execution_count": 39,
   "id": "3e5fab73",
   "metadata": {
    "execution": {
     "iopub.execute_input": "2025-09-05T07:56:44.392263Z",
     "iopub.status.busy": "2025-09-05T07:56:44.391849Z",
     "iopub.status.idle": "2025-09-05T07:56:44.599240Z",
     "shell.execute_reply": "2025-09-05T07:56:44.598096Z"
    },
    "papermill": {
     "duration": 0.226208,
     "end_time": "2025-09-05T07:56:44.601017",
     "exception": false,
     "start_time": "2025-09-05T07:56:44.374809",
     "status": "completed"
    },
    "tags": []
   },
   "outputs": [
    {
     "data": {
      "text/plain": [
       "<Axes: xlabel='location'>"
      ]
     },
     "execution_count": 39,
     "metadata": {},
     "output_type": "execute_result"
    },
    {
     "data": {
      "image/png": "[encoded data removed]",
      "text/plain": [
       "<Figure size 640x480 with 1 Axes>"
      ]
     },
     "metadata": {},
     "output_type": "display_data"
    }
   ],
   "source": [
    "a = df['location'].value_counts().head(10).plot(kind = 'bar')\n",
    "a"
   ]
  },
  {
   "cell_type": "markdown",
   "id": "23127219",
   "metadata": {
    "papermill": {
     "duration": 0.01714,
     "end_time": "2025-09-05T07:56:44.636183",
     "exception": false,
     "start_time": "2025-09-05T07:56:44.619043",
     "status": "completed"
    },
    "tags": []
   },
   "source": [
    "**Most famous restaurant chain in bengaluru**"
   ]
  },
  {
   "cell_type": "code",
   "execution_count": 40,
   "id": "04551113",
   "metadata": {
    "execution": {
     "iopub.execute_input": "2025-09-05T07:56:44.671497Z",
     "iopub.status.busy": "2025-09-05T07:56:44.671144Z",
     "iopub.status.idle": "2025-09-05T07:56:44.677328Z",
     "shell.execute_reply": "2025-09-05T07:56:44.676438Z"
    },
    "papermill": {
     "duration": 0.025842,
     "end_time": "2025-09-05T07:56:44.678974",
     "exception": false,
     "start_time": "2025-09-05T07:56:44.653132",
     "status": "completed"
    },
    "tags": []
   },
   "outputs": [
    {
     "data": {
      "text/plain": [
       "Index(['restaurants', 'online_order', 'booking', 'rating', 'votes', 'location',\n",
       "       'rest_type', 'cuisines', 'cost', 'types'],\n",
       "      dtype='object')"
      ]
     },
     "execution_count": 40,
     "metadata": {},
     "output_type": "execute_result"
    }
   ],
   "source": [
    "df.columns"
   ]
  },
  {
   "cell_type": "code",
   "execution_count": 41,
   "id": "80d777b2",
   "metadata": {
    "execution": {
     "iopub.execute_input": "2025-09-05T07:56:44.716347Z",
     "iopub.status.busy": "2025-09-05T07:56:44.715292Z",
     "iopub.status.idle": "2025-09-05T07:56:44.724053Z",
     "shell.execute_reply": "2025-09-05T07:56:44.723077Z"
    },
    "papermill": {
     "duration": 0.029631,
     "end_time": "2025-09-05T07:56:44.725752",
     "exception": false,
     "start_time": "2025-09-05T07:56:44.696121",
     "status": "completed"
    },
    "tags": []
   },
   "outputs": [
    {
     "data": {
      "text/plain": [
       "0        4.1\n",
       "1        4.1\n",
       "2        3.8\n",
       "3        3.7\n",
       "4        3.8\n",
       "        ... \n",
       "51712    0.0\n",
       "51713    0.0\n",
       "51714    0.0\n",
       "51715    0.0\n",
       "51716    0.0\n",
       "Name: rating, Length: 35011, dtype: float64"
      ]
     },
     "execution_count": 41,
     "metadata": {},
     "output_type": "execute_result"
    }
   ],
   "source": [
    "df['rating']"
   ]
  },
  {
   "cell_type": "code",
   "execution_count": 42,
   "id": "dbf19256",
   "metadata": {
    "execution": {
     "iopub.execute_input": "2025-09-05T07:56:44.761266Z",
     "iopub.status.busy": "2025-09-05T07:56:44.760909Z",
     "iopub.status.idle": "2025-09-05T07:56:44.982838Z",
     "shell.execute_reply": "2025-09-05T07:56:44.981872Z"
    },
    "papermill": {
     "duration": 0.242265,
     "end_time": "2025-09-05T07:56:44.984985",
     "exception": false,
     "start_time": "2025-09-05T07:56:44.742720",
     "status": "completed"
    },
    "tags": []
   },
   "outputs": [
    {
     "data": {
      "text/plain": [
       "<Axes: xlabel='restaurants'>"
      ]
     },
     "execution_count": 42,
     "metadata": {},
     "output_type": "execute_result"
    },
    {
     "data": {
      "image/png": "[encoded data removed]",
      "text/plain": [
       "<Figure size 640x480 with 1 Axes>"
      ]
     },
     "metadata": {},
     "output_type": "display_data"
    }
   ],
   "source": [
    "df.groupby('restaurants')['rating'].mean().sort_values(ascending = False).head(10).plot(kind = 'bar')"
   ]
  },
  {
   "cell_type": "code",
   "execution_count": 43,
   "id": "73e52c88",
   "metadata": {
    "execution": {
     "iopub.execute_input": "2025-09-05T07:56:45.037351Z",
     "iopub.status.busy": "2025-09-05T07:56:45.037037Z",
     "iopub.status.idle": "2025-09-05T07:56:45.058900Z",
     "shell.execute_reply": "2025-09-05T07:56:45.057950Z"
    },
    "papermill": {
     "duration": 0.04475,
     "end_time": "2025-09-05T07:56:45.060943",
     "exception": false,
     "start_time": "2025-09-05T07:56:45.016193",
     "status": "completed"
    },
    "tags": []
   },
   "outputs": [
    {
     "data": {
      "text/plain": [
       "['Jalsa',\n",
       " 'Spice Elephant',\n",
       " 'San Churro Cafe',\n",
       " 'Addhuri Udupi Bhojana',\n",
       " 'Grand Village',\n",
       " 'Timepass Dinner',\n",
       " 'Rosewood International Hotel - Bar & Restaurant',\n",
       " 'Onesta',\n",
       " 'Penthouse Cafe',\n",
       " 'Smacznego',\n",
       " 'CafÃ\\x83Â\\x83Ã\\x82Â\\x83Ã\\x83Â\\x82Ã\\x82Â\\x83Ã\\x83Â\\x83Ã\\x82Â\\x82Ã\\x83Â\\x82Ã\\x82Â© Down The Alley',\n",
       " 'Cafe Shuffle',\n",
       " 'The Coffee Shack',\n",
       " 'Caf-Eleven',\n",
       " 'Cafe Vivacity',\n",
       " 'Catch-up-ino',\n",
       " \"Kirthi's Biryani\",\n",
       " 'T3H Cafe',\n",
       " '360 Atoms Restaurant And Cafe',\n",
       " 'The Vintage Cafe',\n",
       " 'Woodee Pizza',\n",
       " 'Cafe Coffee Day',\n",
       " 'My Tea House',\n",
       " 'Hide Out Cafe',\n",
       " 'CAFE NOVA',\n",
       " 'Coffee Tindi',\n",
       " 'Sea Green Cafe',\n",
       " 'Cuppa',\n",
       " \"Srinathji's Cafe\",\n",
       " 'Redberrys',\n",
       " 'Foodiction',\n",
       " 'Sweet Truth',\n",
       " 'Ovenstory Pizza',\n",
       " 'Faasos',\n",
       " 'Behrouz Biryani',\n",
       " 'Fast And Fresh',\n",
       " 'Szechuan Dragon',\n",
       " 'Empire Restaurant',\n",
       " 'Maruthi Davangere Benne Dosa',\n",
       " 'Chaatimes',\n",
       " 'Havyaka Mess',\n",
       " \"McDonald's\",\n",
       " \"Domino's Pizza\",\n",
       " 'Hotboxit',\n",
       " 'Kitchen Garden',\n",
       " 'Recipe',\n",
       " 'Beijing Bites',\n",
       " 'Tasty Bytes',\n",
       " 'Petoo',\n",
       " 'Shree Cool Point',\n",
       " 'Corner House Ice Cream',\n",
       " 'Biryanis And More',\n",
       " 'Roving Feast',\n",
       " 'FreshMenu',\n",
       " 'Banashankari Donne Biriyani',\n",
       " 'Wamama',\n",
       " 'Five Star Chicken',\n",
       " 'XO Belgian Waffle',\n",
       " 'Peppy Peppers',\n",
       " 'Goa 0 Km',\n",
       " 'Chinese Kitchen',\n",
       " '1947',\n",
       " 'Cake of the Day',\n",
       " 'Kabab Magic',\n",
       " \"Namma Brahmin's Idli\",\n",
       " 'Gustoes Beer House',\n",
       " 'Sugar Rush',\n",
       " 'Burger King',\n",
       " 'The Good Bowl',\n",
       " 'The Biryani Cafe',\n",
       " 'Spicy Tandoor',\n",
       " 'LSD Cafe',\n",
       " 'Rolls On Wheels',\n",
       " 'Om Sri Vinayaka Chats',\n",
       " 'Sri Guru Kottureshwara Davangere Benne Dosa',\n",
       " 'Devanna Dum Biriyani Centre',\n",
       " 'Kolbeh',\n",
       " 'Upahar Sagar',\n",
       " 'Kadalu Sea Food Restaurant',\n",
       " 'Frozen Bottle',\n",
       " 'Parimala Sweets',\n",
       " 'Vaishali Deluxe',\n",
       " 'Chill Out',\n",
       " 'The Big O Bakes',\n",
       " 'Meghana Foods',\n",
       " 'Krishna Sagar',\n",
       " 'Dessert Rose',\n",
       " 'Chickpet Donne Biryani House',\n",
       " 'Me And My Cake',\n",
       " 'Sunsadm',\n",
       " 'Annapooraneshwari Mess',\n",
       " \"Thanco's Natural Ice Creams\",\n",
       " 'Nandhini Deluxe',\n",
       " \"Vi Ra's Bar and Restaurant\",\n",
       " 'Kaggis',\n",
       " 'Ayda Persian Kitchen',\n",
       " 'Chatar Patar',\n",
       " 'Polar Bear',\n",
       " \"Kidambi's Kitchen\",\n",
       " 'Mane Thindi',\n",
       " 'Kotian Karavali Restaurant',\n",
       " 'Floured-Baked With Love',\n",
       " 'Cakes & Slices',\n",
       " 'Spice 9',\n",
       " 'Coffee Shopee',\n",
       " 'Naveen Kabab & Biriyani Mane',\n",
       " 'Katriguppe Donne Biryani',\n",
       " 'Hari Super Sandwich',\n",
       " 'Atithi Point Ande Ka Funda',\n",
       " 'Just Bake',\n",
       " 'Dharwad Line Bazaar Mishra Pedha',\n",
       " 'Cake Bite',\n",
       " \"Aarush's Food Plaza\",\n",
       " 'Wood Stove',\n",
       " 'Kulfi & More',\n",
       " 'Kannadigas Karavali',\n",
       " 'K27 - The Pub',\n",
       " 'Bengaluru Coffee House',\n",
       " 'New Mangalore Lunch Home',\n",
       " 'Coffee Bytes',\n",
       " 'Parjanya Chat Zone',\n",
       " \"Kwality Wall's Swirl's Happiness Station\",\n",
       " 'Soms Kitchen & Bakes',\n",
       " 'Banashankari Nati Style',\n",
       " 'Ruchi Maayaka',\n",
       " 'Mohitesh Hut Roll',\n",
       " 'Sri Basaveshwar Jolada Rotti Oota',\n",
       " 'Roll Magic Fast Food',\n",
       " 'Foodlieious Multi Cuisine',\n",
       " 'Thanishka Nati And Karavali Style',\n",
       " 'Swathi Cool Point',\n",
       " 'Kaumudis Juoice',\n",
       " 'Amma - Manae',\n",
       " 'Sri Sai Tiffannies',\n",
       " 'Hotel Andhra Speices',\n",
       " 'Sri Murari Family Restaurant',\n",
       " 'Aramane Donne Biriyani',\n",
       " 'Darkolates',\n",
       " 'Swaada Healthy Kitchen',\n",
       " 'Gawdaru Mane Beriyani',\n",
       " 'Melting Melodies',\n",
       " 'New Indraprasta',\n",
       " 'Anna Kuteera',\n",
       " 'Darbar',\n",
       " 'Vijayalakshmi',\n",
       " 'Sri Udupi Food Hub',\n",
       " 'Udupi Upahar',\n",
       " 'House Of Kebabs',\n",
       " 'Roll N Rock',\n",
       " 'BOX8- Desi Meals',\n",
       " 'KFC',\n",
       " 'Bitez',\n",
       " 'Roll Over',\n",
       " 'Imperial Restaurant',\n",
       " 'Lassi Shop',\n",
       " 'The Fortuna',\n",
       " 'Wahab',\n",
       " 'Al Diwan Biryanis And More',\n",
       " \"New Gowda's Fried Chicken\",\n",
       " 'Canton',\n",
       " 'Diabetics Dezire Sugarless Sweets and Bakes',\n",
       " 'The Blue Wagon - Kitchen',\n",
       " 'HOT COFFEE',\n",
       " 'Patio 805',\n",
       " 'Lassi Corner',\n",
       " 'Sagar Deluxe',\n",
       " 'Kanti Sweets',\n",
       " 'Vegetalia',\n",
       " 'Aramane Donne Biryani',\n",
       " 'Ande Ka Funda',\n",
       " 'Cake Ghar',\n",
       " 'Energy Addaa',\n",
       " 'Bhattara Bhojana',\n",
       " 'Tandoori Knight',\n",
       " 'Dev Sagar - Food Street',\n",
       " 'Mitraa Da Pizza',\n",
       " 'Paradise Premium',\n",
       " 'Grazers',\n",
       " 'Shakes Theory',\n",
       " '@Italy',\n",
       " 'Chilli Flakes',\n",
       " 'Calcutta Cafe',\n",
       " 'Old Mumbai Ice Cream',\n",
       " 'Donne Biriyani House',\n",
       " 'By 2 Coffee',\n",
       " \"Kedia's Fun Food\",\n",
       " 'Davangere Butter Dosa Hotel',\n",
       " 'Just Shawarma',\n",
       " 'Mini Punjabi Dhaba',\n",
       " 'Mulabagilu Dosa',\n",
       " 'Gokul Veg',\n",
       " 'Olive - Era',\n",
       " 'Udupi Ruchi',\n",
       " 'Madhappa Hindu Military Hotel',\n",
       " 'Gama Gama',\n",
       " 'Pizza Hut',\n",
       " 'Mangalore Pearl',\n",
       " 'Asha Sweets Centre',\n",
       " 'Twiststick House',\n",
       " 'Cool Corner',\n",
       " 'Pizza Mane',\n",
       " 'Dal Tadkaa',\n",
       " 'Chutney Chang',\n",
       " 'Mystique Palate',\n",
       " 'Thamboola',\n",
       " 'Castle Rock',\n",
       " 'Vietnamese Kitchen',\n",
       " 'C Corner',\n",
       " 'Paratha Merchant',\n",
       " 'North Rasoe',\n",
       " 'Inchara Restaurant',\n",
       " 'Toscano',\n",
       " 'Lord Of The Kitchen',\n",
       " 'Stoned Monkey',\n",
       " 'Central Jail Restaurant',\n",
       " 'Bella',\n",
       " 'Vennela Andhra Meals',\n",
       " 'New Prashanth Hotel',\n",
       " 'The Grillo',\n",
       " 'Re Malnad Nati Style Hotel',\n",
       " 'Karma Kaapi',\n",
       " \"Tiwari's\",\n",
       " 'Pizza Stop',\n",
       " \"Biggies Burger 'n' More\",\n",
       " \"Kollapuri's\",\n",
       " 'Sugar Stars Co',\n",
       " 'Bombay Kulfis',\n",
       " 'Kadamba Classic',\n",
       " 'RS Shiv Sagar',\n",
       " 'Kholi Mane',\n",
       " 'Harshi Super Sandwich',\n",
       " 'Cake Yard',\n",
       " 'Sri Udupi Veg',\n",
       " 'Cake Art',\n",
       " 'Aahar Cafe',\n",
       " 'Akash Gowdru Biryani Center',\n",
       " 'New Sri Udupi Restaurant',\n",
       " 'Potato House',\n",
       " 'Hotel Biriyani Counter',\n",
       " 'Matru Sagar',\n",
       " 'Ugadi',\n",
       " 'Sri Krishna Sweets',\n",
       " 'In Time Cane Juice',\n",
       " 'Subway',\n",
       " 'Daal Roti',\n",
       " 'The Lassi Park',\n",
       " 'A2B - Adyar Ananda Bhavan',\n",
       " 'Srikrishna Bhavan',\n",
       " 'Green Gardenia',\n",
       " 'J Spice',\n",
       " 'Karavali Family Restaurant',\n",
       " 'Karavali Lunch Home',\n",
       " 'Hatti Kaapi',\n",
       " \"Kolkata Kathi Roll's\",\n",
       " 'Upahara Darshini',\n",
       " 'The Chaat Shop',\n",
       " 'Anda Ka Funda',\n",
       " 'Shri Vinayaka Ice N Juice',\n",
       " 'Ibaco',\n",
       " 'Jalaram Sweets',\n",
       " 'Samskruti - Sanman Gardenia',\n",
       " 'Bendakaluru Bytes',\n",
       " 'Cocoa Bakes',\n",
       " 'Chumma Delicious',\n",
       " 'SSV Upahar',\n",
       " 'Dwaraka Grand',\n",
       " 'Gufha - The President Hotel',\n",
       " \"Tanna's Kitchen\",\n",
       " 'Shree Mandarathi Grand',\n",
       " 'Mojo Pizza - 2X Toppings',\n",
       " 'Iceberg Icecreams',\n",
       " 'South Kitchen',\n",
       " 'Chung Wah',\n",
       " 'Shanthi Sagar',\n",
       " 'Millet Mama',\n",
       " 'Bangarpet Chat Express',\n",
       " 'South Cool Point',\n",
       " 'Prems Graama Bhojanam',\n",
       " 'Java City',\n",
       " 'Kamat Bugle Rock',\n",
       " 'Puliyogare Point',\n",
       " 'Bangalore Agarwal Bhavan',\n",
       " 'Rustic Stove',\n",
       " 'Udupi Ruchi Grand',\n",
       " 'De Thaali',\n",
       " 'Just Thindi',\n",
       " 'Vasanth Vihar - Since 1965',\n",
       " 'Sea Spice by 7 Star',\n",
       " 'Desi Dawat',\n",
       " 'Cafe Aira',\n",
       " 'Donne Biriyani combos',\n",
       " 'Mast Punjabi',\n",
       " 'South Grand',\n",
       " 'The Pizzeria',\n",
       " 'Cafe Zone',\n",
       " 'Ruchis Point',\n",
       " 'Firangi Bake',\n",
       " 'The Royal Corner - Pai Viceroy',\n",
       " 'Hara Fine Dine',\n",
       " 'Chocoberry',\n",
       " 'Dakshin Grand',\n",
       " 'Sandwichwallas',\n",
       " 'Chai Mane',\n",
       " 'SLV Upachar',\n",
       " 'Waffle-A-Go Go',\n",
       " 'Cross Road Cafe',\n",
       " 'Anand Donne Biriyani',\n",
       " 'Seven Star',\n",
       " \"Stop 'N' Joy\",\n",
       " 'Sri Yaksha Shiv Sagar',\n",
       " 'Fudge',\n",
       " 'Just Bunny',\n",
       " 'Bakers Town',\n",
       " 'Shree Mahalakshmi Sweets',\n",
       " 'Kaapi Kendra',\n",
       " 'Ivy',\n",
       " 'The Airos',\n",
       " 'Chai Kraft',\n",
       " 'South Point Pub',\n",
       " 'The Trundle',\n",
       " 'The Krishna Grand Xpress',\n",
       " 'Sri Krishna Darshini',\n",
       " 'Shringar Sweets & Snacks',\n",
       " 'Udupi Grand',\n",
       " 'Ganesh Grand',\n",
       " 'Shreyas Upahar & Burger Point',\n",
       " 'Little Cafe',\n",
       " 'Mumbai Badam Milk & Lassi Center',\n",
       " 'Sri Krishna Sagar',\n",
       " 'Mylari Biryani Family Restaurant',\n",
       " '1980s Games Cafe',\n",
       " 'Kadala Tarangaa',\n",
       " 'Namma Biryani',\n",
       " \"Nandhanu's Rasoi\",\n",
       " 'Hotel Pork Paradise',\n",
       " 'As On Fire',\n",
       " 'J K Fish Land',\n",
       " 'Curry Leaves',\n",
       " 'Magic Meals',\n",
       " 'Desi Cream Junction',\n",
       " 'Drunken Monkey',\n",
       " \"Ruchi's Corner\",\n",
       " 'Tandoori Bytes',\n",
       " 'Bangalore Donne Biriyani',\n",
       " 'SGS Non Veg - Gundu Pulav',\n",
       " 'Keventers',\n",
       " 'Sree Sagar',\n",
       " 'Navi Food Point',\n",
       " 'Shawarma Inc',\n",
       " 'The Cafe Nuts and Bolts',\n",
       " 'AM WOW',\n",
       " 'Lalbagh Grand',\n",
       " 'Funjabi Curries',\n",
       " 'Eat Repeat',\n",
       " 'Salut',\n",
       " 'Nammura Donne Biriyani',\n",
       " 'Lassi Stop',\n",
       " 'Dakshin Kitchen',\n",
       " 'Sri Sai Cafe',\n",
       " 'Sri Sai 99 Variety Dosa',\n",
       " 'Utsav Restaurant',\n",
       " 'Crunch and Munch',\n",
       " 'Food Geek',\n",
       " 'Sri Krishna Aramane',\n",
       " 'Great Indian Rolls',\n",
       " 'Chats Point',\n",
       " 'Food Point',\n",
       " 'Swarga Ruchi',\n",
       " 'Kolkata King',\n",
       " \"Sandwich Mama's And Frozen Monster\",\n",
       " 'New Rajadhani Spicy',\n",
       " 'Big Mishra Pedha',\n",
       " 'VEGeatz',\n",
       " 'Foodizo',\n",
       " 'Food Springs',\n",
       " \"Chung's Chinese Corner\",\n",
       " 'Eurasia Pasta and Barbeque by Little Italy',\n",
       " 'Goli Vada Pav No. 1',\n",
       " \"Ragoo's\",\n",
       " 'Pure & Natural',\n",
       " 'Maiyas',\n",
       " 'Sip n Dine',\n",
       " 'Cafe Mondo',\n",
       " 'Jalpaan',\n",
       " \"Kataria's Pakwan\",\n",
       " 'Juicy Momos',\n",
       " 'Amande Patisserie',\n",
       " 'Anand Sweets and Savouries',\n",
       " 'Chicken Hunt',\n",
       " 'Swadesh Tadka',\n",
       " 'Cane-O-La',\n",
       " 'New Biryani Mane',\n",
       " 'Karnataka Bhel House',\n",
       " 'Sreeraj Lassi Bar',\n",
       " 'Juice Junction Food Court',\n",
       " \"Bunt's Biriyani Palace\",\n",
       " 'Chai Point',\n",
       " 'Janahaar',\n",
       " 'Utsav',\n",
       " 'Meat And Eat',\n",
       " 'Snacks Bite',\n",
       " 'The Spice Saga',\n",
       " 'Dakshin Cafe',\n",
       " 'Mr. Parathewala',\n",
       " 'Kaulige Millet Corner',\n",
       " 'Ifruit Ice Cream',\n",
       " 'Havmor',\n",
       " 'Grand Food',\n",
       " 'Dining Hut',\n",
       " '7 Hills Garden Restaurant',\n",
       " 'Desi Swaad',\n",
       " 'Yummy Momos',\n",
       " 'Masale Daan',\n",
       " 'Sri Manjunatha Tandoori Corner',\n",
       " 'Grow Fit',\n",
       " 'The House Of Vadapav',\n",
       " 'Cutcakes',\n",
       " 'Lassi Spot',\n",
       " 'Sandwich Hub',\n",
       " \"Healthy Bakes 'n' Brew\",\n",
       " 'Udupi Sri Krishna Cafe',\n",
       " 'Starlite Bakery & Fastfood',\n",
       " 'Veganbreak24x7',\n",
       " 'Aadhya Hotel',\n",
       " 'Dodda Mane Baaduta',\n",
       " 'Swadd Kitchen',\n",
       " 'Nandini Milk Parlour and Restaurant',\n",
       " 'Happy Chopsticks',\n",
       " 'Sai Super Sandwich',\n",
       " 'Right Pizza',\n",
       " 'Udupi Upachar',\n",
       " 'Davanagere Benne Dose Hut',\n",
       " 'The Sip Shop',\n",
       " 'Subz',\n",
       " 'Rajastani Rasoi',\n",
       " 'Sri Banashankari Upahara',\n",
       " 'Mint and Mustard',\n",
       " 'Chinese Square',\n",
       " 'Hyderabad Express',\n",
       " 'Punjabi Raswada',\n",
       " \"Vinny's\",\n",
       " \"Chetty's Corner\",\n",
       " \"Kapoor's Cafe\",\n",
       " 'Donne Biryani & Kabab Corner',\n",
       " 'Sukh Sagar',\n",
       " 'S M V Snacks Corner',\n",
       " 'Andhra Ruchulu',\n",
       " 'The Samosa Co',\n",
       " 'Steaming Mugs',\n",
       " 'Rajathadri Food Fort',\n",
       " 'Brew Meister',\n",
       " 'Rasoi',\n",
       " 'Mr. Singh Da Dhaba',\n",
       " 'Kababs N Biryani',\n",
       " 'Ayodhya Upachar',\n",
       " 'Biriyani Mane',\n",
       " 'Cafe Ajfan',\n",
       " 'Brundhavana Food Point',\n",
       " 'SLV Corner Restaurant',\n",
       " 'Biryani Royals Garden',\n",
       " 'Hotel New Karavali',\n",
       " 'The Krishna Grand',\n",
       " 'Roti Ghar',\n",
       " 'Multi Snacky Hub',\n",
       " 'Kettle & Kegs',\n",
       " 'Baisakhi',\n",
       " 'Poonam Sweets',\n",
       " \"Amma's Pastries\",\n",
       " 'The Lassi and Juice Park',\n",
       " 'Corner Stone',\n",
       " 'Arun Ice Cream',\n",
       " 'Sweet N Swirl',\n",
       " 'Mukesh Sweet Centre',\n",
       " 'Gopi Ice Creams',\n",
       " 'Sri Venkateshwara Sweet Meat Stall',\n",
       " 'Baskin Robbins',\n",
       " 'Srinivasa Brahmins Bakery',\n",
       " 'Jain Bakes',\n",
       " 'KC Das - Sweet Spot',\n",
       " 'A2B Veg - Adyar Ananda Bhavan',\n",
       " 'Cakecraft',\n",
       " 'Jcubez',\n",
       " 'Ferment',\n",
       " 'Blue Wings Bar & Restaurant',\n",
       " 'New Imperial Restaurant',\n",
       " '7 Hills Restaurant',\n",
       " 'Karavali Fish Center',\n",
       " \"Iyer's Tiffin Centre\",\n",
       " 'Kydz Adda',\n",
       " 'Food Box Cafe',\n",
       " 'Linnet Bar & Restaurant',\n",
       " 'Sri Ganesh Juice and Chats',\n",
       " 'Manifest Cafe',\n",
       " 'SLN Bar and Restaurant',\n",
       " 'Parijatha Paradise',\n",
       " 'Taaza Thindi',\n",
       " 'Kaapi Corner',\n",
       " 'Sri Laxmi Venkateshwara Coffee Bar',\n",
       " 'Messy Bowl',\n",
       " 'Brahmin Cafe',\n",
       " 'Hotel Mangala',\n",
       " 'Simple Thindies',\n",
       " 'SLV Swadishta',\n",
       " 'New Sagar Fast Food',\n",
       " 'Parama Ruchi',\n",
       " 'Thrilok Restaurant',\n",
       " 'Shri Guru Raghavendra Grand Veg',\n",
       " 'Hanumanthanagar Biryani Junction',\n",
       " 'SLV Refreshment',\n",
       " 'SVKP Daily Fresh',\n",
       " 'Srinagar Kabab Corner',\n",
       " 'Sri Venkateshwara Chat Centre',\n",
       " 'Vinay Bhel Corner',\n",
       " 'Roti Land',\n",
       " 'Nandi Chats and Juice',\n",
       " 'Yaarub Hotel',\n",
       " 'Rotti Mane',\n",
       " 'The Coorg Kitchen',\n",
       " 'FOOD ADDA',\n",
       " 'Hotel Nisarga',\n",
       " 'Yo Roll Corner',\n",
       " 'New Quality Dum Biryani',\n",
       " 'Sri Lakshmi Kabab Center',\n",
       " 'Cueferia A-Cafe',\n",
       " 'Dtink Lab',\n",
       " 'Shree Udupi South kitchen',\n",
       " 'Tasty Bites',\n",
       " 'Raams Chicken',\n",
       " 'Panchami',\n",
       " 'Bangalore Kabab Palace',\n",
       " 'Quality Dum Biriyani',\n",
       " 'Taja Coffee',\n",
       " 'New Prakash Hotel',\n",
       " 'Kings Court Daba',\n",
       " 'MM Tiffen Center',\n",
       " 'Sri Raghavendra Prasanna Coffee Beans Club',\n",
       " 'Sri Balaji Tiffin Centre',\n",
       " 'Kavali',\n",
       " 'Ranganna Military Hotel',\n",
       " 'Vidyarthi Bhavan',\n",
       " 'Bharjari Oota',\n",
       " 'Bridgeway',\n",
       " 'Soho Bar & Grill',\n",
       " 'Bhavani Restaurant',\n",
       " 'Zephyr',\n",
       " 'Hotel Dwarka',\n",
       " 'Nisarga Garden Restaurant',\n",
       " 'Ma-Arya Family Restaurant',\n",
       " 'Udupi Sri Krishna Bhavan',\n",
       " 'Ice Thunder',\n",
       " 'Mahalaxmi Tiffin Room',\n",
       " 'Basavanagudi Mylari',\n",
       " 'Shrinidhi Military Hotel',\n",
       " 'Pramukh Family Restaurant',\n",
       " 'Vybhava',\n",
       " 'Shree Venkateshwara North Karnataka Hotel',\n",
       " 'Anand Sagar Inn',\n",
       " 'Sangam Military Hotel',\n",
       " 'Pallavi Bar & Restaurant',\n",
       " 'Belly Squad Food Truck',\n",
       " 'Tejas Bar and Restaurant',\n",
       " 'Old Days North Indian Restaurant',\n",
       " '50-50 EATING HOUSE',\n",
       " 'Om Shiva Shakthi Chats Centre',\n",
       " 'Rolls Corner',\n",
       " \"Charisma's Matru Sagar\",\n",
       " 'New Ambur Hot Dum Biryani',\n",
       " 'Sticke2Waffles',\n",
       " 'Nimmoora Thindi',\n",
       " 'Oasis Food Center',\n",
       " 'Godumana Moddha Hotel',\n",
       " 'Ambur Dum Biriyani',\n",
       " 'Food Plaza',\n",
       " 'Deja Vu Resto Bar',\n",
       " 'Fattoush',\n",
       " 'Abhiruchi Hotel',\n",
       " 'Tulips',\n",
       " 'Barbeque Nation',\n",
       " 'Sattvam',\n",
       " '24th Main',\n",
       " 'Zaitoon',\n",
       " 'Mango Greens',\n",
       " 'Oye Amritsar',\n",
       " 'Melt - Eden Park',\n",
       " 'Crave Bit Cafe',\n",
       " 'Spice Code',\n",
       " 'The Onyx - The HHI Select Bengaluru',\n",
       " 'The Pavillion',\n",
       " 'Sankranthi Veg Restaurant',\n",
       " 'Tisano Cafe',\n",
       " 'Cafe Kabana',\n",
       " 'Butterly',\n",
       " 'Cafe Conico',\n",
       " 'Black Mug Cafe',\n",
       " '#refuel',\n",
       " 'WAFL',\n",
       " 'Vaho Kafe & Pressery',\n",
       " 'Dreamcatcher',\n",
       " 'Cafe Arabica',\n",
       " 'Starbucks',\n",
       " 'Smoor',\n",
       " 'Kalmane Koffees',\n",
       " 'Shee-Sha Cafe',\n",
       " 'Brews N Bites',\n",
       " 'D2V Cafe',\n",
       " 'Wellness Cafe',\n",
       " 'Cafe Talk',\n",
       " 'Cafe Choco Craze',\n",
       " 'Healthy Smoothie',\n",
       " 'Me N U',\n",
       " 'Slate Cafe',\n",
       " 'Dialogues',\n",
       " 'Cafe Zuppa',\n",
       " 'Mudpipe Cafe',\n",
       " 'TAB - Take A Break',\n",
       " 'Cafe Potpourri',\n",
       " 'De Oxford Cafe',\n",
       " 'Vinaya Coffee Moments',\n",
       " 'Brew Point',\n",
       " 'The Cravery',\n",
       " \"Anju's Cafe\",\n",
       " 'Furry Fairy Paw Paradise',\n",
       " 'Junkealth',\n",
       " 'Skytouch Le Cafe',\n",
       " 'Hearts Unlock Cafe',\n",
       " 'eat.fit',\n",
       " 'Sai Abhiruchi',\n",
       " 'Capsicum Family Restaurant',\n",
       " 'Box Magic',\n",
       " \"Maa'r Rannaghor\",\n",
       " 'Easy Bites',\n",
       " 'Hiyar Majhe Kolkata',\n",
       " 'Dabba Gosht',\n",
       " 'Punjabites',\n",
       " 'Sri Lakshmi Dhaba',\n",
       " 'Swadista Aahar',\n",
       " 'Vegetarea',\n",
       " 'Al-Bek',\n",
       " \"Aniram's\",\n",
       " 'Punjabi Nawabi',\n",
       " 'YummRajj',\n",
       " 'Swad Punjab Da',\n",
       " 'Roti Wala',\n",
       " 'Midnight Mania',\n",
       " 'Kitchens@JP Nagar',\n",
       " 'Krishna Kuteera',\n",
       " 'Apna Punjab',\n",
       " 'Paratha Junction',\n",
       " 'Nellore Bhojanam',\n",
       " 'Momoz',\n",
       " 'Kalingas',\n",
       " 'Kanteen The Eatery',\n",
       " 'Kullad Cafe',\n",
       " 'Litti Twist',\n",
       " 'Cakebuy',\n",
       " 'Poha House',\n",
       " 'Bathinda Tandoor',\n",
       " 'Delight Food',\n",
       " 'Andhra Kitchen',\n",
       " 'Veg By Nature',\n",
       " 'Chicken Magic',\n",
       " 'Swathi Restaurant',\n",
       " 'Fresh Kitchen',\n",
       " 'Hind Ka Chulah',\n",
       " 'Kuttanad',\n",
       " 'New Mahesh Friends Food Corner',\n",
       " 'Bohra Bohra CafÃ\\x83Â\\x83Ã\\x82Â\\x83Ã\\x83Â\\x82Ã\\x82Â\\x83Ã\\x83Â\\x83Ã\\x82Â\\x82Ã\\x83Â\\x82Ã\\x82Â©',\n",
       " 'Shree Krishna Sannidhi',\n",
       " 'BingeJoy!',\n",
       " 'Shiv Sai Hotel',\n",
       " 'MRA',\n",
       " 'Burj Hotel',\n",
       " 'Shaadi Ki Biryani',\n",
       " 'Madeena Hotel',\n",
       " 'Biryani Durbar',\n",
       " 'Adyar Ananda Bhavan Sweets',\n",
       " 'Mahesh Friends Food Center',\n",
       " 'Juice Shop',\n",
       " \"Dadi's Dum Biryani\",\n",
       " 'Krishna Kuteera South',\n",
       " 'Alankrutha',\n",
       " 'Paradise',\n",
       " 'Kabab Mehal',\n",
       " 'Mughlai Kitchen',\n",
       " 'Sri Punjabi Dhaba',\n",
       " 'Arabian Mexico',\n",
       " 'CakeZone',\n",
       " 'Fujian Express',\n",
       " 'Indian Food',\n",
       " 'Tandoori Paradise',\n",
       " 'Kolkata Kathi Rolls',\n",
       " 'Adithya',\n",
       " 'Cheesiano Pizza',\n",
       " 'Le Arabia',\n",
       " 'Nati Palace',\n",
       " \"Dande's Hyderabad Biryani\",\n",
       " 'Upahara Bhavan',\n",
       " 'Sher-E-Punjab',\n",
       " 'Shuddh Desi Khana',\n",
       " 'Karama Restaurant',\n",
       " 'Jaganath Hotel and Restaurant',\n",
       " \"Mani's Dum Biryani\",\n",
       " 'Amontron',\n",
       " 'A M Biryani Hotel',\n",
       " 'Birinz',\n",
       " 'Hyderabadi Bawarchi',\n",
       " 'Fish Chain',\n",
       " 'Prasiddhi Food Corner',\n",
       " 'Biriyani Bhatti',\n",
       " 'Hyderabad Biryaani House',\n",
       " \"Galito's\",\n",
       " 'C. K. Mega Hot Food',\n",
       " 'Red Chilli Restaurant',\n",
       " 'RSS Donne Biryani',\n",
       " 'Rajdhani Thali Restaurant',\n",
       " 'PHEW (Play Hard Eat Wild)',\n",
       " 'New Kabab Zone',\n",
       " 'Bawarchi Paradise',\n",
       " 'Shree Udupi Grand',\n",
       " 'Chicken County Grand',\n",
       " 'Darjeeling Momos & Fast Food Center',\n",
       " 'Veruthe Oru Thattukada',\n",
       " 'Savoury - Sea Shell Restaurant',\n",
       " 'Warm Oven',\n",
       " 'Kundana',\n",
       " 'Food Ka Masti',\n",
       " 'The Shawarma Shop',\n",
       " 'Momo Junction',\n",
       " 'Antilla Aromas',\n",
       " 'Punjabi Food Corner',\n",
       " 'Mealer.in',\n",
       " 'Pathaan Sir',\n",
       " 'Cold Stone Creamery',\n",
       " 'Amritsari Kulcha Land',\n",
       " 'Chokha Chowka',\n",
       " 'Gorbandh',\n",
       " 'Grills & Rolls',\n",
       " 'Bathinda Junction',\n",
       " 'Stories',\n",
       " \"New Gongura's\",\n",
       " 'Sagar Grand',\n",
       " 'UBQ By Barbeque Nation',\n",
       " 'Agarwal Food Service',\n",
       " \"Daniyal's\",\n",
       " 'Seasons',\n",
       " 'Chef Delicacies',\n",
       " 'Indiana Burgers',\n",
       " 'Moksha',\n",
       " 'Marwa Restaurant',\n",
       " 'Shanghai Court',\n",
       " 'Akshaya Donne Biriyani',\n",
       " 'Bhojohori Manna',\n",
       " 'Richie Rich',\n",
       " 'Hunger Bee',\n",
       " 'Yum In My Tum',\n",
       " 'Maggi N Maggi House',\n",
       " 'Fresh Dinner',\n",
       " 'B.M.W Bhookh Mitaane Wala',\n",
       " 'Biryani Miya',\n",
       " 'Krispy Kreme',\n",
       " 'Paani Kum Chai',\n",
       " 'Chulha Chauki Da Dhaba',\n",
       " 'Hotel Brundavan',\n",
       " \"Magix's Parattha Roll\",\n",
       " 'Elegant Dining',\n",
       " 'AlienSip',\n",
       " 'Waffle Head',\n",
       " 'Samruddhi Biryani',\n",
       " 'Basmati Delights',\n",
       " \"Charlee's Chicken\",\n",
       " 'Samosa Singh',\n",
       " 'Cravings',\n",
       " 'Nagas',\n",
       " 'Thalassery Restaurant',\n",
       " 'Matka',\n",
       " 'Punjabi Swag',\n",
       " 'Taco Bell',\n",
       " 'Ambur Star Dum Biryani',\n",
       " \"Ahmed's Little Hut\",\n",
       " \"Mother's Rasoi\",\n",
       " 'Dosa Bazaar',\n",
       " 'Babu Moshai',\n",
       " 'The Bong Palate',\n",
       " 'Gowdru Mane Oota',\n",
       " \"Chandrima's Kitchen\",\n",
       " 'Bikaner Jn',\n",
       " 'Crunch Pizzas',\n",
       " 'Slurpy Shakes',\n",
       " 'Lassi Berg',\n",
       " 'Kakal-Kai Ruchi',\n",
       " 'Manchu Cafe',\n",
       " 'Calorie Express',\n",
       " 'Thalis Of India',\n",
       " 'BANGALORE BOX',\n",
       " 'Hotel Khaaja',\n",
       " 'The Gujarat Express',\n",
       " 'Vishal Foods',\n",
       " 'Lassi Darbar',\n",
       " 'Chavadi',\n",
       " 'Nanna Munna Paratha House',\n",
       " 'Cucumber Town',\n",
       " 'Artinci Artisanal Ice Cream',\n",
       " 'Kolkata Famous Kati Roll',\n",
       " 'Nellore Ruchulu',\n",
       " 'Brewsky',\n",
       " 'Chefeana',\n",
       " 'Bangaliana',\n",
       " 'Gud Dhani',\n",
       " 'The Hunger Room',\n",
       " 'Parisar Veg Restaurant',\n",
       " 'Deejas Kitchen',\n",
       " 'Pancuzzi',\n",
       " 'Totus',\n",
       " \"Zhang's - Chinese Restaurant\",\n",
       " 'Shagun Sweets & Foods',\n",
       " 'Eat Well',\n",
       " \"Dev's Gugababa\",\n",
       " 'Oogway Express',\n",
       " 'Balaji Bombay Vada Pav Gujrati Dalebi',\n",
       " 'The Cake Ville',\n",
       " 'The Egg Factory',\n",
       " 'Chow San',\n",
       " 'New Udupi Grand',\n",
       " 'New Karawali Lunch Home',\n",
       " 'SR Choco Station',\n",
       " 'Bangalore Pantry',\n",
       " 'Momo Jojo',\n",
       " 'Pizza Palace',\n",
       " 'Simply Indian',\n",
       " 'Delhi Biryani Cafe',\n",
       " \"Rithika's Kitchen\",\n",
       " 'Punjabi Times',\n",
       " 'Tarbouche',\n",
       " 'Omleterian',\n",
       " 'Cravy Wings',\n",
       " 'Funky Punjab',\n",
       " 'A1 Garam Masala',\n",
       " 'Punjabi Corner',\n",
       " 'Guru Palace',\n",
       " 'Zeeshan',\n",
       " 'Ambara Gardenia',\n",
       " 'LayerBite',\n",
       " 'Bhavani Chats',\n",
       " 'Tandoor Chai House',\n",
       " 'More Pizza',\n",
       " 'Appana Restaurant',\n",
       " 'Crafted Plate',\n",
       " \"Shetty's Kitchen\",\n",
       " 'Machali Port',\n",
       " 'Naati Manae',\n",
       " 'Bottle Genie',\n",
       " 'Mad Over Biryani',\n",
       " 'Garma Garam',\n",
       " 'Sambram Biriyani Paradise',\n",
       " 'Mr. Meetharam',\n",
       " 'The Coastal Crew by Fujian on 24th',\n",
       " 'BIB - Breakfast in the Box',\n",
       " 'Angel Restaurant',\n",
       " 'Wow Momo',\n",
       " 'Pizza Da Dhaba',\n",
       " 'Kalpavruksha',\n",
       " 'Innerchef',\n",
       " 'Juice Land',\n",
       " 'Bombay Sandwich Company',\n",
       " 'Tandoor And Spice',\n",
       " 'Kitchen24',\n",
       " 'Rock Stone Ice Cream Factory',\n",
       " 'Paratha Plaza',\n",
       " 'Krishna Vijayashree',\n",
       " 'Soup Station',\n",
       " 'Tasty Point',\n",
       " 'Natural Mumbai Kulfi',\n",
       " 'Namma Kudla',\n",
       " 'Triveni',\n",
       " 'Wangs Kitchen',\n",
       " 'RK Fresh Food',\n",
       " 'Alif Restaurant',\n",
       " 'Dine One One Restaurant',\n",
       " 'Pallavas Veg Cuisine',\n",
       " 'The Food Cottage',\n",
       " 'Healthie',\n",
       " 'Brundhavana Pure Veg',\n",
       " 'Spice Up',\n",
       " 'North Chinese Centre',\n",
       " 'Suryawanshi',\n",
       " 'M-Aura Kitchen Cafe & More',\n",
       " 'Perch',\n",
       " 'Tempteys',\n",
       " 'World In A Bowl',\n",
       " 'DeliBox.in',\n",
       " 'FRYBIES',\n",
       " 'Crumb Together',\n",
       " 'The Foodyz',\n",
       " \"Bean D'er Cafe\",\n",
       " 'Chaat Chatore',\n",
       " 'Taste Of Kolkata',\n",
       " 'Y Not Restaurant',\n",
       " '24/7 Food Service',\n",
       " 'Kanti Bakes & Flakes',\n",
       " 'China Town 07',\n",
       " 'Modern Restaurant',\n",
       " 'Burrito Boys',\n",
       " 'The little Kitchen',\n",
       " 'Trippy Paradise',\n",
       " 'City Cafe',\n",
       " 'Biryani Magic',\n",
       " 'YumYumDilli',\n",
       " 'Nagarjuna',\n",
       " 'Laddoos',\n",
       " 'Smoke Oil Salt',\n",
       " 'Momo King',\n",
       " 'Waffle Stories',\n",
       " 'Late Night',\n",
       " 'Waffle Walle',\n",
       " 'Shake It Off',\n",
       " 'Bombay Kulfi',\n",
       " 'Chaat Central',\n",
       " 'Two Friends Cauldron',\n",
       " 'Bun Town',\n",
       " 'INDULGE by InnerChef',\n",
       " 'Garden Fresh',\n",
       " 'Dhabeliwala',\n",
       " \"Rayaan's BBQ\",\n",
       " 'Chaat Junction',\n",
       " 'Asharfilal',\n",
       " 'Street Foods by Punjab Grill',\n",
       " \"Tiwari's Ghee Paratha and Chats\",\n",
       " 'Spurthi Foods',\n",
       " 'Melting Pot at Woodrose',\n",
       " 'Pot Biryani',\n",
       " \"Thanco's Natural Ice Cream\",\n",
       " 'Mango Tree- The Beer Garden',\n",
       " 'Dessi Cuppa',\n",
       " 'Halli Mane MUDDE OOTA',\n",
       " \"Lyengar's Cakes N Cookies\",\n",
       " 'Eat & Joy Restaurant',\n",
       " 'YumYumSouth',\n",
       " 'Wow Vada Pav',\n",
       " 'Foreign CafÃ\\x83Â\\x83Ã\\x82Â\\x83Ã\\x83Â\\x82Ã\\x82Â\\x83Ã\\x83Â\\x83Ã\\x82Â\\x82Ã\\x83Â\\x82Ã\\x82Â©',\n",
       " 'The Jade Kitchen',\n",
       " 'Krishna Vaibhava',\n",
       " 'Nandhanus Rasoi',\n",
       " 'Donne Biriyani Mane',\n",
       " 'Fish And Dish',\n",
       " 'Miss Momo',\n",
       " 'Intalia',\n",
       " 'Chicken County Restaurant',\n",
       " 'Velvet Kitchen',\n",
       " 'Hotel Aradhana',\n",
       " 'The Chervil',\n",
       " 'Eatsomnia',\n",
       " 'Sri Rajasthani Foods',\n",
       " 'New Royal Treat',\n",
       " 'I Cool',\n",
       " 'The Kitchen',\n",
       " 'Mahek Pizza',\n",
       " 'KC Das- Sweet World',\n",
       " 'Panther Cafe',\n",
       " 'Lassi Ghar',\n",
       " 'Authentic Aandhra',\n",
       " 'Roots n Fruits',\n",
       " 'Indian Desi Momo',\n",
       " 'Kaizen Wellness Kitchen',\n",
       " 'Mad Over Donuts',\n",
       " 'Kolkata Famous Kati Rolls',\n",
       " 'Vinaya Cafe',\n",
       " 'RBP Greens Garden',\n",
       " 'Supreme Biryani',\n",
       " 'Dazu Momoz',\n",
       " 'Desi Dhaba',\n",
       " 'World of Waffles',\n",
       " \"Pika's Kitchen\",\n",
       " 'Dilli ??',\n",
       " 'Lassi Cafe',\n",
       " 'The London Shakes',\n",
       " 'New Mogul Empire',\n",
       " 'Atithi Biryani Corner',\n",
       " 'Oottupura Family Restaurant',\n",
       " 'Yumme Veg',\n",
       " 'Shree Guru Raghavendra Chats Chintamani Special',\n",
       " 'Vyanjan',\n",
       " 'Sri Sankara Cafe',\n",
       " 'Bhaijaan Barbeques',\n",
       " 'Namana Garden',\n",
       " 'Chatter Platter',\n",
       " 'Momo Time',\n",
       " 'Bikaneri Sweets',\n",
       " \"Watson's\",\n",
       " 'Sri Nandi Grand',\n",
       " 'Chicken Man',\n",
       " 'Only Sharjah',\n",
       " \"Chef Baker's\",\n",
       " 'Sree Ganesha Fruits & Juice',\n",
       " 'Nandhana Palace',\n",
       " 'Happy Eats',\n",
       " 'Biryani Nights',\n",
       " 'Thejas Bhavan',\n",
       " 'Kababish Restaurant',\n",
       " 'Graffitea',\n",
       " 'Gappe',\n",
       " ...]"
      ]
     },
     "execution_count": 43,
     "metadata": {},
     "output_type": "execute_result"
    }
   ],
   "source": [
    "df['restaurants'].unique().tolist()"
   ]
  },
  {
   "cell_type": "code",
   "execution_count": 44,
   "id": "8726fdc8",
   "metadata": {
    "execution": {
     "iopub.execute_input": "2025-09-05T07:56:45.100306Z",
     "iopub.status.busy": "2025-09-05T07:56:45.100023Z",
     "iopub.status.idle": "2025-09-05T07:56:45.120679Z",
     "shell.execute_reply": "2025-09-05T07:56:45.119687Z"
    },
    "papermill": {
     "duration": 0.042063,
     "end_time": "2025-09-05T07:56:45.122213",
     "exception": false,
     "start_time": "2025-09-05T07:56:45.080150",
     "status": "completed"
    },
    "tags": []
   },
   "outputs": [
    {
     "name": "stderr",
     "output_type": "stream",
     "text": [
      "/tmp/ipykernel_13/2212084722.py:1: FutureWarning: A value is trying to be set on a copy of a DataFrame or Series through chained assignment using an inplace method.\n",
      "The behavior will change in pandas 3.0. This inplace method will never work because the intermediate object on which we are setting values always behaves as a copy.\n",
      "\n",
      "For example, when doing 'df[col].method(value, inplace=True)', try using 'df.method({col: value}, inplace=True)' or df[col] = df[col].method(value) instead, to perform the operation inplace on the original object.\n",
      "\n",
      "\n",
      "  df['restaurants'].replace('Ã\\x83Â\\x83Ã\\x82Â\\x83Ã\\x83Â\\x82Ã\\x82Â\\x83Ã\\x83Â\\x83Ã\\x82Â\\x82Ã\\x83Â\\x82Ã\\x82Â©|ÃÂÃÂÃÂÃÂÃÂÃÂÃÂÃÂÃÂÃÂÃÂÃÂÃÂÃÂÃÂÃÂ©','',regex=True,inplace=True)\n"
     ]
    }
   ],
   "source": [
    "df['restaurants'].replace('Ã\\x83Â\\x83Ã\\x82Â\\x83Ã\\x83Â\\x82Ã\\x82Â\\x83Ã\\x83Â\\x83Ã\\x82Â\\x82Ã\\x83Â\\x82Ã\\x82Â©|ÃÂÃÂÃÂÃÂÃÂÃÂÃÂÃÂÃÂÃÂÃÂÃÂÃÂÃÂÃÂÃÂ©','',regex=True,inplace=True)"
   ]
  },
  {
   "cell_type": "code",
   "execution_count": 45,
   "id": "2ce2171f",
   "metadata": {
    "execution": {
     "iopub.execute_input": "2025-09-05T07:56:45.160934Z",
     "iopub.status.busy": "2025-09-05T07:56:45.160551Z",
     "iopub.status.idle": "2025-09-05T07:56:45.197730Z",
     "shell.execute_reply": "2025-09-05T07:56:45.196662Z"
    },
    "papermill": {
     "duration": 0.058903,
     "end_time": "2025-09-05T07:56:45.199629",
     "exception": false,
     "start_time": "2025-09-05T07:56:45.140726",
     "status": "completed"
    },
    "tags": []
   },
   "outputs": [],
   "source": [
    "df['restaurants'] = df['restaurants'].str.replace(r'[^\\x00-\\x7F]+', '', regex=True)"
   ]
  },
  {
   "cell_type": "code",
   "execution_count": 46,
   "id": "1a6d2e6a",
   "metadata": {
    "execution": {
     "iopub.execute_input": "2025-09-05T07:56:45.239770Z",
     "iopub.status.busy": "2025-09-05T07:56:45.239405Z",
     "iopub.status.idle": "2025-09-05T07:56:45.449742Z",
     "shell.execute_reply": "2025-09-05T07:56:45.448705Z"
    },
    "papermill": {
     "duration": 0.233211,
     "end_time": "2025-09-05T07:56:45.451658",
     "exception": false,
     "start_time": "2025-09-05T07:56:45.218447",
     "status": "completed"
    },
    "tags": []
   },
   "outputs": [
    {
     "data": {
      "text/plain": [
       "<Axes: xlabel='restaurants'>"
      ]
     },
     "execution_count": 46,
     "metadata": {},
     "output_type": "execute_result"
    },
    {
     "data": {
      "image/png": "[encoded data removed]",
      "text/plain": [
       "<Figure size 640x480 with 1 Axes>"
      ]
     },
     "metadata": {},
     "output_type": "display_data"
    }
   ],
   "source": [
    "df.groupby('restaurants')['rating'].mean().sort_values(ascending = False).head(10).plot(kind = 'bar')"
   ]
  },
  {
   "cell_type": "code",
   "execution_count": 47,
   "id": "7195d325",
   "metadata": {
    "execution": {
     "iopub.execute_input": "2025-09-05T07:56:45.494104Z",
     "iopub.status.busy": "2025-09-05T07:56:45.493656Z",
     "iopub.status.idle": "2025-09-05T07:56:45.515082Z",
     "shell.execute_reply": "2025-09-05T07:56:45.514209Z"
    },
    "papermill": {
     "duration": 0.044769,
     "end_time": "2025-09-05T07:56:45.516994",
     "exception": false,
     "start_time": "2025-09-05T07:56:45.472225",
     "status": "completed"
    },
    "tags": []
   },
   "outputs": [
    {
     "data": {
      "text/plain": [
       "restaurants\n",
       "Toit                    4.700000\n",
       "TBC Sky Lounge          4.700000\n",
       "Taaza Thindi            4.700000\n",
       "The Big Barbeque        4.700000\n",
       "Milano Ice Cream        4.633333\n",
       "Mugful Of Stories       4.600000\n",
       "Hunger Camp             4.600000\n",
       "Avista Cafe Pizzeria    4.500000\n",
       "Hakuna Matata           4.500000\n",
       "Shakes Theory           4.500000\n",
       "Name: rating, dtype: float64"
      ]
     },
     "execution_count": 47,
     "metadata": {},
     "output_type": "execute_result"
    }
   ],
   "source": [
    "df.groupby('restaurants')['rating'].mean().sort_values(ascending = False).head(10)"
   ]
  },
  {
   "cell_type": "markdown",
   "id": "11809b74",
   "metadata": {
    "papermill": {
     "duration": 0.01933,
     "end_time": "2025-09-05T07:56:45.555713",
     "exception": false,
     "start_time": "2025-09-05T07:56:45.536383",
     "status": "completed"
    },
    "tags": []
   },
   "source": [
    "It calculates the average rating for each restaurant, sorts them from highest to lowest, and shows the top 10 restaurants."
   ]
  },
  {
   "cell_type": "markdown",
   "id": "c1271c26",
   "metadata": {
    "papermill": {
     "duration": 0.019282,
     "end_time": "2025-09-05T07:56:45.594348",
     "exception": false,
     "start_time": "2025-09-05T07:56:45.575066",
     "status": "completed"
    },
    "tags": []
   },
   "source": [
    "**I performed exploratory data analysis (EDA) on the Zomato dataset to understand restaurant ratings, popular cuisines, and location trends. The process involved cleaning the data, handling missing values, and converting ratings to numeric. I analyzed the top restaurants, locations, and cuisines, and identified the top 10 highest-rated restaurants by calculating the average ratings. The analysis revealed key insights about customer preferences, popular cuisines, and areas with highly-rated restaurants, providing a clear overview of Zomato’s restaurant landscape.**"
   ]
  },
  {
   "cell_type": "markdown",
   "id": "f6e30af1",
   "metadata": {
    "papermill": {
     "duration": 0.019027,
     "end_time": "2025-09-05T07:56:45.632860",
     "exception": false,
     "start_time": "2025-09-05T07:56:45.613833",
     "status": "completed"
    },
    "tags": []
   },
   "source": [
    "**Thank You**"
   ]
  }
 ],
 "metadata": {
  "kaggle": {
   "accelerator": "none",
   "dataSources": [
    {
     "datasetId": 8206809,
     "sourceId": 12967054,
     "sourceType": "datasetVersion"
    }
   ],
   "dockerImageVersionId": 31089,
   "isGpuEnabled": false,
   "isInternetEnabled": false,
   "language": "python",
   "sourceType": "notebook"
  },
  "kernelspec": {
   "display_name": "Python 3",
   "language": "python",
   "name": "python3"
  },
  "language_info": {
   "codemirror_mode": {
    "name": "ipython",
    "version": 3
   },
   "file_extension": ".py",
   "mimetype": "text/x-python",
   "name": "python",
   "nbconvert_exporter": "python",
   "pygments_lexer": "ipython3",
   "version": "3.11.13"
  },
  "papermill": {
   "default_parameters": {},
   "duration": 34.796139,
   "end_time": "2025-09-05T07:56:46.581589",
   "environment_variables": {},
   "exception": null,
   "input_path": "__notebook__.ipynb",
   "output_path": "__notebook__.ipynb",
   "parameters": {},
   "start_time": "2025-09-05T07:56:11.785450",
   "version": "2.6.0"
  }
 },
 "nbformat": 4,
 "nbformat_minor": 5
}
